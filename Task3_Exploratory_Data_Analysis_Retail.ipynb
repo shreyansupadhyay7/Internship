{
  "nbformat": 4,
  "nbformat_minor": 0,
  "metadata": {
    "colab": {
      "name": "Task3 Exploratory Data Analysis Retail.ipynb",
      "provenance": [],
      "collapsed_sections": [],
      "authorship_tag": "ABX9TyPOBLrffE+W4VaqREF7BtlZ",
      "include_colab_link": true
    },
    "kernelspec": {
      "name": "python3",
      "display_name": "Python 3"
    },
    "language_info": {
      "name": "python"
    }
  },
  "cells": [
    {
      "cell_type": "markdown",
      "metadata": {
        "id": "view-in-github",
        "colab_type": "text"
      },
      "source": [
        "<a href=\"https://colab.research.google.com/github/siu1997/Internship/blob/main/Task3_Exploratory_Data_Analysis_Retail.ipynb\" target=\"_parent\"><img src=\"https://colab.research.google.com/assets/colab-badge.svg\" alt=\"Open In Colab\"/></a>"
      ]
    },
    {
      "cell_type": "markdown",
      "metadata": {
        "id": "9_xCjUd1YNB9"
      },
      "source": [
        "#GRIP @The Sparks Foundation\n",
        "July2021"
      ]
    },
    {
      "cell_type": "markdown",
      "metadata": {
        "id": "qj3tjP4Rprua"
      },
      "source": [
        "#Author: Shreyans Upadhyay"
      ]
    },
    {
      "cell_type": "markdown",
      "metadata": {
        "id": "cdiAmKONYngE"
      },
      "source": [
        "#Task 3: Exploratory Data Analysis-Retail\n",
        "\n",
        "\n",
        "As a business manager, we have to find out the weak areas where you can work make more profit. In this task, we have to derive the business problem by exploring the data."
      ]
    },
    {
      "cell_type": "markdown",
      "metadata": {
        "id": "M8E6uaEhxJqk"
      },
      "source": [
        "#Step 1: Importing the necessary Libraries"
      ]
    },
    {
      "cell_type": "code",
      "metadata": {
        "id": "gpPW7BkrYDpr"
      },
      "source": [
        "import pandas as pd\n",
        "import numpy as np\n",
        "import matplotlib.pyplot as plt\n",
        "%matplotlib inline\n",
        "import seaborn as sns"
      ],
      "execution_count": 1,
      "outputs": []
    },
    {
      "cell_type": "markdown",
      "metadata": {
        "id": "bHaTWVDBymqi"
      },
      "source": [
        "#Step 2 Load the Dataset"
      ]
    },
    {
      "cell_type": "code",
      "metadata": {
        "colab": {
          "base_uri": "https://localhost:8080/"
        },
        "id": "8yZ9BjazyYJN",
        "outputId": "67da21c3-34d6-489a-fa73-f520d2391939"
      },
      "source": [
        "from google.colab import drive\n",
        "drive.mount(\"/content/drive\")"
      ],
      "execution_count": 2,
      "outputs": [
        {
          "output_type": "stream",
          "text": [
            "Drive already mounted at /content/drive; to attempt to forcibly remount, call drive.mount(\"/content/drive\", force_remount=True).\n"
          ],
          "name": "stdout"
        }
      ]
    },
    {
      "cell_type": "code",
      "metadata": {
        "id": "J0aFxRGF02oK"
      },
      "source": [
        "Location=\"drive/My Drive/Dataset\""
      ],
      "execution_count": 3,
      "outputs": []
    },
    {
      "cell_type": "code",
      "metadata": {
        "id": "EZBeZB_y0eVX"
      },
      "source": [
        "df=pd.read_csv(Location+ \"/SampleSuperstore (1).csv\")"
      ],
      "execution_count": 4,
      "outputs": []
    },
    {
      "cell_type": "code",
      "metadata": {
        "colab": {
          "base_uri": "https://localhost:8080/",
          "height": 324
        },
        "id": "942TT6vOzXqu",
        "outputId": "62b0cb17-a177-4f9b-d3aa-fb02da061702"
      },
      "source": [
        "#Print the first five elements of the dataset\n",
        "df.head()"
      ],
      "execution_count": 5,
      "outputs": [
        {
          "output_type": "execute_result",
          "data": {
            "text/html": [
              "<div>\n",
              "<style scoped>\n",
              "    .dataframe tbody tr th:only-of-type {\n",
              "        vertical-align: middle;\n",
              "    }\n",
              "\n",
              "    .dataframe tbody tr th {\n",
              "        vertical-align: top;\n",
              "    }\n",
              "\n",
              "    .dataframe thead th {\n",
              "        text-align: right;\n",
              "    }\n",
              "</style>\n",
              "<table border=\"1\" class=\"dataframe\">\n",
              "  <thead>\n",
              "    <tr style=\"text-align: right;\">\n",
              "      <th></th>\n",
              "      <th>Ship Mode</th>\n",
              "      <th>Segment</th>\n",
              "      <th>Country</th>\n",
              "      <th>City</th>\n",
              "      <th>State</th>\n",
              "      <th>Postal Code</th>\n",
              "      <th>Region</th>\n",
              "      <th>Category</th>\n",
              "      <th>Sub-Category</th>\n",
              "      <th>Sales</th>\n",
              "      <th>Quantity</th>\n",
              "      <th>Discount</th>\n",
              "      <th>Profit</th>\n",
              "    </tr>\n",
              "  </thead>\n",
              "  <tbody>\n",
              "    <tr>\n",
              "      <th>0</th>\n",
              "      <td>Second Class</td>\n",
              "      <td>Consumer</td>\n",
              "      <td>United States</td>\n",
              "      <td>Henderson</td>\n",
              "      <td>Kentucky</td>\n",
              "      <td>42420</td>\n",
              "      <td>South</td>\n",
              "      <td>Furniture</td>\n",
              "      <td>Bookcases</td>\n",
              "      <td>261.9600</td>\n",
              "      <td>2</td>\n",
              "      <td>0.00</td>\n",
              "      <td>41.9136</td>\n",
              "    </tr>\n",
              "    <tr>\n",
              "      <th>1</th>\n",
              "      <td>Second Class</td>\n",
              "      <td>Consumer</td>\n",
              "      <td>United States</td>\n",
              "      <td>Henderson</td>\n",
              "      <td>Kentucky</td>\n",
              "      <td>42420</td>\n",
              "      <td>South</td>\n",
              "      <td>Furniture</td>\n",
              "      <td>Chairs</td>\n",
              "      <td>731.9400</td>\n",
              "      <td>3</td>\n",
              "      <td>0.00</td>\n",
              "      <td>219.5820</td>\n",
              "    </tr>\n",
              "    <tr>\n",
              "      <th>2</th>\n",
              "      <td>Second Class</td>\n",
              "      <td>Corporate</td>\n",
              "      <td>United States</td>\n",
              "      <td>Los Angeles</td>\n",
              "      <td>California</td>\n",
              "      <td>90036</td>\n",
              "      <td>West</td>\n",
              "      <td>Office Supplies</td>\n",
              "      <td>Labels</td>\n",
              "      <td>14.6200</td>\n",
              "      <td>2</td>\n",
              "      <td>0.00</td>\n",
              "      <td>6.8714</td>\n",
              "    </tr>\n",
              "    <tr>\n",
              "      <th>3</th>\n",
              "      <td>Standard Class</td>\n",
              "      <td>Consumer</td>\n",
              "      <td>United States</td>\n",
              "      <td>Fort Lauderdale</td>\n",
              "      <td>Florida</td>\n",
              "      <td>33311</td>\n",
              "      <td>South</td>\n",
              "      <td>Furniture</td>\n",
              "      <td>Tables</td>\n",
              "      <td>957.5775</td>\n",
              "      <td>5</td>\n",
              "      <td>0.45</td>\n",
              "      <td>-383.0310</td>\n",
              "    </tr>\n",
              "    <tr>\n",
              "      <th>4</th>\n",
              "      <td>Standard Class</td>\n",
              "      <td>Consumer</td>\n",
              "      <td>United States</td>\n",
              "      <td>Fort Lauderdale</td>\n",
              "      <td>Florida</td>\n",
              "      <td>33311</td>\n",
              "      <td>South</td>\n",
              "      <td>Office Supplies</td>\n",
              "      <td>Storage</td>\n",
              "      <td>22.3680</td>\n",
              "      <td>2</td>\n",
              "      <td>0.20</td>\n",
              "      <td>2.5164</td>\n",
              "    </tr>\n",
              "  </tbody>\n",
              "</table>\n",
              "</div>"
            ],
            "text/plain": [
              "        Ship Mode    Segment        Country  ... Quantity Discount    Profit\n",
              "0    Second Class   Consumer  United States  ...        2     0.00   41.9136\n",
              "1    Second Class   Consumer  United States  ...        3     0.00  219.5820\n",
              "2    Second Class  Corporate  United States  ...        2     0.00    6.8714\n",
              "3  Standard Class   Consumer  United States  ...        5     0.45 -383.0310\n",
              "4  Standard Class   Consumer  United States  ...        2     0.20    2.5164\n",
              "\n",
              "[5 rows x 13 columns]"
            ]
          },
          "metadata": {
            "tags": []
          },
          "execution_count": 5
        }
      ]
    },
    {
      "cell_type": "code",
      "metadata": {
        "colab": {
          "base_uri": "https://localhost:8080/",
          "height": 324
        },
        "id": "Q5fb9v4V07p2",
        "outputId": "f088bed7-9008-440c-ecbc-c5f8e331e2e0"
      },
      "source": [
        "#Print the last five elements of the dataset\n",
        "df.tail()"
      ],
      "execution_count": 6,
      "outputs": [
        {
          "output_type": "execute_result",
          "data": {
            "text/html": [
              "<div>\n",
              "<style scoped>\n",
              "    .dataframe tbody tr th:only-of-type {\n",
              "        vertical-align: middle;\n",
              "    }\n",
              "\n",
              "    .dataframe tbody tr th {\n",
              "        vertical-align: top;\n",
              "    }\n",
              "\n",
              "    .dataframe thead th {\n",
              "        text-align: right;\n",
              "    }\n",
              "</style>\n",
              "<table border=\"1\" class=\"dataframe\">\n",
              "  <thead>\n",
              "    <tr style=\"text-align: right;\">\n",
              "      <th></th>\n",
              "      <th>Ship Mode</th>\n",
              "      <th>Segment</th>\n",
              "      <th>Country</th>\n",
              "      <th>City</th>\n",
              "      <th>State</th>\n",
              "      <th>Postal Code</th>\n",
              "      <th>Region</th>\n",
              "      <th>Category</th>\n",
              "      <th>Sub-Category</th>\n",
              "      <th>Sales</th>\n",
              "      <th>Quantity</th>\n",
              "      <th>Discount</th>\n",
              "      <th>Profit</th>\n",
              "    </tr>\n",
              "  </thead>\n",
              "  <tbody>\n",
              "    <tr>\n",
              "      <th>9989</th>\n",
              "      <td>Second Class</td>\n",
              "      <td>Consumer</td>\n",
              "      <td>United States</td>\n",
              "      <td>Miami</td>\n",
              "      <td>Florida</td>\n",
              "      <td>33180</td>\n",
              "      <td>South</td>\n",
              "      <td>Furniture</td>\n",
              "      <td>Furnishings</td>\n",
              "      <td>25.248</td>\n",
              "      <td>3</td>\n",
              "      <td>0.2</td>\n",
              "      <td>4.1028</td>\n",
              "    </tr>\n",
              "    <tr>\n",
              "      <th>9990</th>\n",
              "      <td>Standard Class</td>\n",
              "      <td>Consumer</td>\n",
              "      <td>United States</td>\n",
              "      <td>Costa Mesa</td>\n",
              "      <td>California</td>\n",
              "      <td>92627</td>\n",
              "      <td>West</td>\n",
              "      <td>Furniture</td>\n",
              "      <td>Furnishings</td>\n",
              "      <td>91.960</td>\n",
              "      <td>2</td>\n",
              "      <td>0.0</td>\n",
              "      <td>15.6332</td>\n",
              "    </tr>\n",
              "    <tr>\n",
              "      <th>9991</th>\n",
              "      <td>Standard Class</td>\n",
              "      <td>Consumer</td>\n",
              "      <td>United States</td>\n",
              "      <td>Costa Mesa</td>\n",
              "      <td>California</td>\n",
              "      <td>92627</td>\n",
              "      <td>West</td>\n",
              "      <td>Technology</td>\n",
              "      <td>Phones</td>\n",
              "      <td>258.576</td>\n",
              "      <td>2</td>\n",
              "      <td>0.2</td>\n",
              "      <td>19.3932</td>\n",
              "    </tr>\n",
              "    <tr>\n",
              "      <th>9992</th>\n",
              "      <td>Standard Class</td>\n",
              "      <td>Consumer</td>\n",
              "      <td>United States</td>\n",
              "      <td>Costa Mesa</td>\n",
              "      <td>California</td>\n",
              "      <td>92627</td>\n",
              "      <td>West</td>\n",
              "      <td>Office Supplies</td>\n",
              "      <td>Paper</td>\n",
              "      <td>29.600</td>\n",
              "      <td>4</td>\n",
              "      <td>0.0</td>\n",
              "      <td>13.3200</td>\n",
              "    </tr>\n",
              "    <tr>\n",
              "      <th>9993</th>\n",
              "      <td>Second Class</td>\n",
              "      <td>Consumer</td>\n",
              "      <td>United States</td>\n",
              "      <td>Westminster</td>\n",
              "      <td>California</td>\n",
              "      <td>92683</td>\n",
              "      <td>West</td>\n",
              "      <td>Office Supplies</td>\n",
              "      <td>Appliances</td>\n",
              "      <td>243.160</td>\n",
              "      <td>2</td>\n",
              "      <td>0.0</td>\n",
              "      <td>72.9480</td>\n",
              "    </tr>\n",
              "  </tbody>\n",
              "</table>\n",
              "</div>"
            ],
            "text/plain": [
              "           Ship Mode   Segment        Country  ... Quantity Discount   Profit\n",
              "9989    Second Class  Consumer  United States  ...        3      0.2   4.1028\n",
              "9990  Standard Class  Consumer  United States  ...        2      0.0  15.6332\n",
              "9991  Standard Class  Consumer  United States  ...        2      0.2  19.3932\n",
              "9992  Standard Class  Consumer  United States  ...        4      0.0  13.3200\n",
              "9993    Second Class  Consumer  United States  ...        2      0.0  72.9480\n",
              "\n",
              "[5 rows x 13 columns]"
            ]
          },
          "metadata": {
            "tags": []
          },
          "execution_count": 6
        }
      ]
    },
    {
      "cell_type": "code",
      "metadata": {
        "colab": {
          "base_uri": "https://localhost:8080/"
        },
        "id": "1wdnOuP_1HRY",
        "outputId": "5d09a122-e4eb-46d6-cd52-d40b49cc5855"
      },
      "source": [
        "#check the shape, info and the data types of the dataset\n",
        "df.shape, df.info(), df.dtypes"
      ],
      "execution_count": 7,
      "outputs": [
        {
          "output_type": "stream",
          "text": [
            "<class 'pandas.core.frame.DataFrame'>\n",
            "RangeIndex: 9994 entries, 0 to 9993\n",
            "Data columns (total 13 columns):\n",
            " #   Column        Non-Null Count  Dtype  \n",
            "---  ------        --------------  -----  \n",
            " 0   Ship Mode     9994 non-null   object \n",
            " 1   Segment       9994 non-null   object \n",
            " 2   Country       9994 non-null   object \n",
            " 3   City          9994 non-null   object \n",
            " 4   State         9994 non-null   object \n",
            " 5   Postal Code   9994 non-null   int64  \n",
            " 6   Region        9994 non-null   object \n",
            " 7   Category      9994 non-null   object \n",
            " 8   Sub-Category  9994 non-null   object \n",
            " 9   Sales         9994 non-null   float64\n",
            " 10  Quantity      9994 non-null   int64  \n",
            " 11  Discount      9994 non-null   float64\n",
            " 12  Profit        9994 non-null   float64\n",
            "dtypes: float64(3), int64(2), object(8)\n",
            "memory usage: 1015.1+ KB\n"
          ],
          "name": "stdout"
        },
        {
          "output_type": "execute_result",
          "data": {
            "text/plain": [
              "((9994, 13), None, Ship Mode        object\n",
              " Segment          object\n",
              " Country          object\n",
              " City             object\n",
              " State            object\n",
              " Postal Code       int64\n",
              " Region           object\n",
              " Category         object\n",
              " Sub-Category     object\n",
              " Sales           float64\n",
              " Quantity          int64\n",
              " Discount        float64\n",
              " Profit          float64\n",
              " dtype: object)"
            ]
          },
          "metadata": {
            "tags": []
          },
          "execution_count": 7
        }
      ]
    },
    {
      "cell_type": "markdown",
      "metadata": {
        "id": "5ZrNlgdA2ZvN"
      },
      "source": [
        "There are 9994 rows and 13 columnes present in our dataset."
      ]
    },
    {
      "cell_type": "code",
      "metadata": {
        "colab": {
          "base_uri": "https://localhost:8080/",
          "height": 295
        },
        "id": "o11RWyom1ix_",
        "outputId": "6e47db54-d69f-42e9-b692-758337e1f2fc"
      },
      "source": [
        "#check the statistical values of the dataset\n",
        "df.describe()"
      ],
      "execution_count": 8,
      "outputs": [
        {
          "output_type": "execute_result",
          "data": {
            "text/html": [
              "<div>\n",
              "<style scoped>\n",
              "    .dataframe tbody tr th:only-of-type {\n",
              "        vertical-align: middle;\n",
              "    }\n",
              "\n",
              "    .dataframe tbody tr th {\n",
              "        vertical-align: top;\n",
              "    }\n",
              "\n",
              "    .dataframe thead th {\n",
              "        text-align: right;\n",
              "    }\n",
              "</style>\n",
              "<table border=\"1\" class=\"dataframe\">\n",
              "  <thead>\n",
              "    <tr style=\"text-align: right;\">\n",
              "      <th></th>\n",
              "      <th>Postal Code</th>\n",
              "      <th>Sales</th>\n",
              "      <th>Quantity</th>\n",
              "      <th>Discount</th>\n",
              "      <th>Profit</th>\n",
              "    </tr>\n",
              "  </thead>\n",
              "  <tbody>\n",
              "    <tr>\n",
              "      <th>count</th>\n",
              "      <td>9994.000000</td>\n",
              "      <td>9994.000000</td>\n",
              "      <td>9994.000000</td>\n",
              "      <td>9994.000000</td>\n",
              "      <td>9994.000000</td>\n",
              "    </tr>\n",
              "    <tr>\n",
              "      <th>mean</th>\n",
              "      <td>55190.379428</td>\n",
              "      <td>229.858001</td>\n",
              "      <td>3.789574</td>\n",
              "      <td>0.156203</td>\n",
              "      <td>28.656896</td>\n",
              "    </tr>\n",
              "    <tr>\n",
              "      <th>std</th>\n",
              "      <td>32063.693350</td>\n",
              "      <td>623.245101</td>\n",
              "      <td>2.225110</td>\n",
              "      <td>0.206452</td>\n",
              "      <td>234.260108</td>\n",
              "    </tr>\n",
              "    <tr>\n",
              "      <th>min</th>\n",
              "      <td>1040.000000</td>\n",
              "      <td>0.444000</td>\n",
              "      <td>1.000000</td>\n",
              "      <td>0.000000</td>\n",
              "      <td>-6599.978000</td>\n",
              "    </tr>\n",
              "    <tr>\n",
              "      <th>25%</th>\n",
              "      <td>23223.000000</td>\n",
              "      <td>17.280000</td>\n",
              "      <td>2.000000</td>\n",
              "      <td>0.000000</td>\n",
              "      <td>1.728750</td>\n",
              "    </tr>\n",
              "    <tr>\n",
              "      <th>50%</th>\n",
              "      <td>56430.500000</td>\n",
              "      <td>54.490000</td>\n",
              "      <td>3.000000</td>\n",
              "      <td>0.200000</td>\n",
              "      <td>8.666500</td>\n",
              "    </tr>\n",
              "    <tr>\n",
              "      <th>75%</th>\n",
              "      <td>90008.000000</td>\n",
              "      <td>209.940000</td>\n",
              "      <td>5.000000</td>\n",
              "      <td>0.200000</td>\n",
              "      <td>29.364000</td>\n",
              "    </tr>\n",
              "    <tr>\n",
              "      <th>max</th>\n",
              "      <td>99301.000000</td>\n",
              "      <td>22638.480000</td>\n",
              "      <td>14.000000</td>\n",
              "      <td>0.800000</td>\n",
              "      <td>8399.976000</td>\n",
              "    </tr>\n",
              "  </tbody>\n",
              "</table>\n",
              "</div>"
            ],
            "text/plain": [
              "        Postal Code         Sales     Quantity     Discount       Profit\n",
              "count   9994.000000   9994.000000  9994.000000  9994.000000  9994.000000\n",
              "mean   55190.379428    229.858001     3.789574     0.156203    28.656896\n",
              "std    32063.693350    623.245101     2.225110     0.206452   234.260108\n",
              "min     1040.000000      0.444000     1.000000     0.000000 -6599.978000\n",
              "25%    23223.000000     17.280000     2.000000     0.000000     1.728750\n",
              "50%    56430.500000     54.490000     3.000000     0.200000     8.666500\n",
              "75%    90008.000000    209.940000     5.000000     0.200000    29.364000\n",
              "max    99301.000000  22638.480000    14.000000     0.800000  8399.976000"
            ]
          },
          "metadata": {
            "tags": []
          },
          "execution_count": 8
        }
      ]
    },
    {
      "cell_type": "code",
      "metadata": {
        "colab": {
          "base_uri": "https://localhost:8080/"
        },
        "id": "IKOE2Kfm2AAF",
        "outputId": "ca01fc5b-a75c-4675-9799-107882e683b7"
      },
      "source": [
        "#check the missing values of the dataset\n",
        "df.isnull().sum()"
      ],
      "execution_count": 9,
      "outputs": [
        {
          "output_type": "execute_result",
          "data": {
            "text/plain": [
              "Ship Mode       0\n",
              "Segment         0\n",
              "Country         0\n",
              "City            0\n",
              "State           0\n",
              "Postal Code     0\n",
              "Region          0\n",
              "Category        0\n",
              "Sub-Category    0\n",
              "Sales           0\n",
              "Quantity        0\n",
              "Discount        0\n",
              "Profit          0\n",
              "dtype: int64"
            ]
          },
          "metadata": {
            "tags": []
          },
          "execution_count": 9
        }
      ]
    },
    {
      "cell_type": "markdown",
      "metadata": {
        "id": "uTAmTTn82lA-"
      },
      "source": [
        "There is no null value present in the dataset"
      ]
    },
    {
      "cell_type": "code",
      "metadata": {
        "colab": {
          "base_uri": "https://localhost:8080/",
          "height": 203
        },
        "id": "B-Z_HJTzKv0O",
        "outputId": "07dc7e66-ea7d-417b-d3f8-ba8fb2f67c00"
      },
      "source": [
        "df.corr()"
      ],
      "execution_count": 10,
      "outputs": [
        {
          "output_type": "execute_result",
          "data": {
            "text/html": [
              "<div>\n",
              "<style scoped>\n",
              "    .dataframe tbody tr th:only-of-type {\n",
              "        vertical-align: middle;\n",
              "    }\n",
              "\n",
              "    .dataframe tbody tr th {\n",
              "        vertical-align: top;\n",
              "    }\n",
              "\n",
              "    .dataframe thead th {\n",
              "        text-align: right;\n",
              "    }\n",
              "</style>\n",
              "<table border=\"1\" class=\"dataframe\">\n",
              "  <thead>\n",
              "    <tr style=\"text-align: right;\">\n",
              "      <th></th>\n",
              "      <th>Postal Code</th>\n",
              "      <th>Sales</th>\n",
              "      <th>Quantity</th>\n",
              "      <th>Discount</th>\n",
              "      <th>Profit</th>\n",
              "    </tr>\n",
              "  </thead>\n",
              "  <tbody>\n",
              "    <tr>\n",
              "      <th>Postal Code</th>\n",
              "      <td>1.000000</td>\n",
              "      <td>-0.023854</td>\n",
              "      <td>0.012761</td>\n",
              "      <td>0.058443</td>\n",
              "      <td>-0.029961</td>\n",
              "    </tr>\n",
              "    <tr>\n",
              "      <th>Sales</th>\n",
              "      <td>-0.023854</td>\n",
              "      <td>1.000000</td>\n",
              "      <td>0.200795</td>\n",
              "      <td>-0.028190</td>\n",
              "      <td>0.479064</td>\n",
              "    </tr>\n",
              "    <tr>\n",
              "      <th>Quantity</th>\n",
              "      <td>0.012761</td>\n",
              "      <td>0.200795</td>\n",
              "      <td>1.000000</td>\n",
              "      <td>0.008623</td>\n",
              "      <td>0.066253</td>\n",
              "    </tr>\n",
              "    <tr>\n",
              "      <th>Discount</th>\n",
              "      <td>0.058443</td>\n",
              "      <td>-0.028190</td>\n",
              "      <td>0.008623</td>\n",
              "      <td>1.000000</td>\n",
              "      <td>-0.219487</td>\n",
              "    </tr>\n",
              "    <tr>\n",
              "      <th>Profit</th>\n",
              "      <td>-0.029961</td>\n",
              "      <td>0.479064</td>\n",
              "      <td>0.066253</td>\n",
              "      <td>-0.219487</td>\n",
              "      <td>1.000000</td>\n",
              "    </tr>\n",
              "  </tbody>\n",
              "</table>\n",
              "</div>"
            ],
            "text/plain": [
              "             Postal Code     Sales  Quantity  Discount    Profit\n",
              "Postal Code     1.000000 -0.023854  0.012761  0.058443 -0.029961\n",
              "Sales          -0.023854  1.000000  0.200795 -0.028190  0.479064\n",
              "Quantity        0.012761  0.200795  1.000000  0.008623  0.066253\n",
              "Discount        0.058443 -0.028190  0.008623  1.000000 -0.219487\n",
              "Profit         -0.029961  0.479064  0.066253 -0.219487  1.000000"
            ]
          },
          "metadata": {
            "tags": []
          },
          "execution_count": 10
        }
      ]
    },
    {
      "cell_type": "code",
      "metadata": {
        "colab": {
          "base_uri": "https://localhost:8080/",
          "height": 203
        },
        "id": "adaga-WdKyb6",
        "outputId": "66f92acb-648f-497b-b66d-0568a1302c5b"
      },
      "source": [
        "df.cov()"
      ],
      "execution_count": 11,
      "outputs": [
        {
          "output_type": "execute_result",
          "data": {
            "text/html": [
              "<div>\n",
              "<style scoped>\n",
              "    .dataframe tbody tr th:only-of-type {\n",
              "        vertical-align: middle;\n",
              "    }\n",
              "\n",
              "    .dataframe tbody tr th {\n",
              "        vertical-align: top;\n",
              "    }\n",
              "\n",
              "    .dataframe thead th {\n",
              "        text-align: right;\n",
              "    }\n",
              "</style>\n",
              "<table border=\"1\" class=\"dataframe\">\n",
              "  <thead>\n",
              "    <tr style=\"text-align: right;\">\n",
              "      <th></th>\n",
              "      <th>Postal Code</th>\n",
              "      <th>Sales</th>\n",
              "      <th>Quantity</th>\n",
              "      <th>Discount</th>\n",
              "      <th>Profit</th>\n",
              "    </tr>\n",
              "  </thead>\n",
              "  <tbody>\n",
              "    <tr>\n",
              "      <th>Postal Code</th>\n",
              "      <td>1.028080e+09</td>\n",
              "      <td>-476682.766590</td>\n",
              "      <td>910.415885</td>\n",
              "      <td>386.870404</td>\n",
              "      <td>-225045.849445</td>\n",
              "    </tr>\n",
              "    <tr>\n",
              "      <th>Sales</th>\n",
              "      <td>-4.766828e+05</td>\n",
              "      <td>388434.455308</td>\n",
              "      <td>278.459923</td>\n",
              "      <td>-3.627228</td>\n",
              "      <td>69944.096586</td>\n",
              "    </tr>\n",
              "    <tr>\n",
              "      <th>Quantity</th>\n",
              "      <td>9.104159e+02</td>\n",
              "      <td>278.459923</td>\n",
              "      <td>4.951113</td>\n",
              "      <td>0.003961</td>\n",
              "      <td>34.534769</td>\n",
              "    </tr>\n",
              "    <tr>\n",
              "      <th>Discount</th>\n",
              "      <td>3.868704e+02</td>\n",
              "      <td>-3.627228</td>\n",
              "      <td>0.003961</td>\n",
              "      <td>0.042622</td>\n",
              "      <td>-10.615173</td>\n",
              "    </tr>\n",
              "    <tr>\n",
              "      <th>Profit</th>\n",
              "      <td>-2.250458e+05</td>\n",
              "      <td>69944.096586</td>\n",
              "      <td>34.534769</td>\n",
              "      <td>-10.615173</td>\n",
              "      <td>54877.798055</td>\n",
              "    </tr>\n",
              "  </tbody>\n",
              "</table>\n",
              "</div>"
            ],
            "text/plain": [
              "              Postal Code          Sales    Quantity    Discount         Profit\n",
              "Postal Code  1.028080e+09 -476682.766590  910.415885  386.870404 -225045.849445\n",
              "Sales       -4.766828e+05  388434.455308  278.459923   -3.627228   69944.096586\n",
              "Quantity     9.104159e+02     278.459923    4.951113    0.003961      34.534769\n",
              "Discount     3.868704e+02      -3.627228    0.003961    0.042622     -10.615173\n",
              "Profit      -2.250458e+05   69944.096586   34.534769  -10.615173   54877.798055"
            ]
          },
          "metadata": {
            "tags": []
          },
          "execution_count": 11
        }
      ]
    },
    {
      "cell_type": "code",
      "metadata": {
        "colab": {
          "base_uri": "https://localhost:8080/"
        },
        "id": "CpAKfAOg2ROV",
        "outputId": "9d3faec0-b2df-4870-e4fb-3b801220304a"
      },
      "source": [
        "print(df['Category'].describe())"
      ],
      "execution_count": 12,
      "outputs": [
        {
          "output_type": "stream",
          "text": [
            "count                9994\n",
            "unique                  3\n",
            "top       Office Supplies\n",
            "freq                 6026\n",
            "Name: Category, dtype: object\n"
          ],
          "name": "stdout"
        }
      ]
    },
    {
      "cell_type": "code",
      "metadata": {
        "colab": {
          "base_uri": "https://localhost:8080/"
        },
        "id": "gs98d5v958FN",
        "outputId": "adb5f677-2b52-4b21-b8b9-f1530f9a771c"
      },
      "source": [
        "print(df['Sub-Category'].describe())"
      ],
      "execution_count": 13,
      "outputs": [
        {
          "output_type": "stream",
          "text": [
            "count        9994\n",
            "unique         17\n",
            "top       Binders\n",
            "freq         1523\n",
            "Name: Sub-Category, dtype: object\n"
          ],
          "name": "stdout"
        }
      ]
    },
    {
      "cell_type": "code",
      "metadata": {
        "colab": {
          "base_uri": "https://localhost:8080/"
        },
        "id": "CkrTudIlIhsL",
        "outputId": "b86aa442-9d1b-4cb9-a0be-97f764cb5f58"
      },
      "source": [
        "print(df['City'].describe())"
      ],
      "execution_count": 14,
      "outputs": [
        {
          "output_type": "stream",
          "text": [
            "count              9994\n",
            "unique              531\n",
            "top       New York City\n",
            "freq                915\n",
            "Name: City, dtype: object\n"
          ],
          "name": "stdout"
        }
      ]
    },
    {
      "cell_type": "code",
      "metadata": {
        "colab": {
          "base_uri": "https://localhost:8080/",
          "height": 334
        },
        "id": "J-9Iait26Qgn",
        "outputId": "f36996a1-da43-4e54-9fd5-7c68192911f9"
      },
      "source": [
        "#Sales distribution\n",
        "plt.figure(figsize=(9, 4))\n",
        "sns.distplot(df['Sales'], color='blue', bins=100, hist_kws={'alpha': 0.4});"
      ],
      "execution_count": 15,
      "outputs": [
        {
          "output_type": "stream",
          "text": [
            "/usr/local/lib/python3.7/dist-packages/seaborn/distributions.py:2557: FutureWarning: `distplot` is a deprecated function and will be removed in a future version. Please adapt your code to use either `displot` (a figure-level function with similar flexibility) or `histplot` (an axes-level function for histograms).\n",
            "  warnings.warn(msg, FutureWarning)\n"
          ],
          "name": "stderr"
        },
        {
          "output_type": "display_data",
          "data": {
            "image/png": "[encoded data removed]",
            "text/plain": [
              "<Figure size 648x288 with 1 Axes>"
            ]
          },
          "metadata": {
            "tags": [],
            "needs_background": "light"
          }
        }
      ]
    },
    {
      "cell_type": "code",
      "metadata": {
        "id": "LjNtdCHF7JJc",
        "colab": {
          "base_uri": "https://localhost:8080/",
          "height": 912
        },
        "outputId": "24521032-c5c4-49c1-9599-2320217a115a"
      },
      "source": [
        "duplicate=df.duplicated()\n",
        "print(duplicate.sum())\n",
        "df[duplicate]"
      ],
      "execution_count": 16,
      "outputs": [
        {
          "output_type": "stream",
          "text": [
            "17\n"
          ],
          "name": "stdout"
        },
        {
          "output_type": "execute_result",
          "data": {
            "text/html": [
              "<div>\n",
              "<style scoped>\n",
              "    .dataframe tbody tr th:only-of-type {\n",
              "        vertical-align: middle;\n",
              "    }\n",
              "\n",
              "    .dataframe tbody tr th {\n",
              "        vertical-align: top;\n",
              "    }\n",
              "\n",
              "    .dataframe thead th {\n",
              "        text-align: right;\n",
              "    }\n",
              "</style>\n",
              "<table border=\"1\" class=\"dataframe\">\n",
              "  <thead>\n",
              "    <tr style=\"text-align: right;\">\n",
              "      <th></th>\n",
              "      <th>Ship Mode</th>\n",
              "      <th>Segment</th>\n",
              "      <th>Country</th>\n",
              "      <th>City</th>\n",
              "      <th>State</th>\n",
              "      <th>Postal Code</th>\n",
              "      <th>Region</th>\n",
              "      <th>Category</th>\n",
              "      <th>Sub-Category</th>\n",
              "      <th>Sales</th>\n",
              "      <th>Quantity</th>\n",
              "      <th>Discount</th>\n",
              "      <th>Profit</th>\n",
              "    </tr>\n",
              "  </thead>\n",
              "  <tbody>\n",
              "    <tr>\n",
              "      <th>950</th>\n",
              "      <td>Standard Class</td>\n",
              "      <td>Home Office</td>\n",
              "      <td>United States</td>\n",
              "      <td>Philadelphia</td>\n",
              "      <td>Pennsylvania</td>\n",
              "      <td>19120</td>\n",
              "      <td>East</td>\n",
              "      <td>Office Supplies</td>\n",
              "      <td>Paper</td>\n",
              "      <td>15.552</td>\n",
              "      <td>3</td>\n",
              "      <td>0.2</td>\n",
              "      <td>5.4432</td>\n",
              "    </tr>\n",
              "    <tr>\n",
              "      <th>3406</th>\n",
              "      <td>Standard Class</td>\n",
              "      <td>Home Office</td>\n",
              "      <td>United States</td>\n",
              "      <td>Columbus</td>\n",
              "      <td>Ohio</td>\n",
              "      <td>43229</td>\n",
              "      <td>East</td>\n",
              "      <td>Furniture</td>\n",
              "      <td>Chairs</td>\n",
              "      <td>281.372</td>\n",
              "      <td>2</td>\n",
              "      <td>0.3</td>\n",
              "      <td>-12.0588</td>\n",
              "    </tr>\n",
              "    <tr>\n",
              "      <th>3670</th>\n",
              "      <td>Standard Class</td>\n",
              "      <td>Consumer</td>\n",
              "      <td>United States</td>\n",
              "      <td>Salem</td>\n",
              "      <td>Oregon</td>\n",
              "      <td>97301</td>\n",
              "      <td>West</td>\n",
              "      <td>Office Supplies</td>\n",
              "      <td>Paper</td>\n",
              "      <td>10.368</td>\n",
              "      <td>2</td>\n",
              "      <td>0.2</td>\n",
              "      <td>3.6288</td>\n",
              "    </tr>\n",
              "    <tr>\n",
              "      <th>4117</th>\n",
              "      <td>Standard Class</td>\n",
              "      <td>Consumer</td>\n",
              "      <td>United States</td>\n",
              "      <td>Los Angeles</td>\n",
              "      <td>California</td>\n",
              "      <td>90036</td>\n",
              "      <td>West</td>\n",
              "      <td>Office Supplies</td>\n",
              "      <td>Paper</td>\n",
              "      <td>19.440</td>\n",
              "      <td>3</td>\n",
              "      <td>0.0</td>\n",
              "      <td>9.3312</td>\n",
              "    </tr>\n",
              "    <tr>\n",
              "      <th>4553</th>\n",
              "      <td>Standard Class</td>\n",
              "      <td>Consumer</td>\n",
              "      <td>United States</td>\n",
              "      <td>San Francisco</td>\n",
              "      <td>California</td>\n",
              "      <td>94122</td>\n",
              "      <td>West</td>\n",
              "      <td>Office Supplies</td>\n",
              "      <td>Paper</td>\n",
              "      <td>12.840</td>\n",
              "      <td>3</td>\n",
              "      <td>0.0</td>\n",
              "      <td>5.7780</td>\n",
              "    </tr>\n",
              "    <tr>\n",
              "      <th>5905</th>\n",
              "      <td>Same Day</td>\n",
              "      <td>Home Office</td>\n",
              "      <td>United States</td>\n",
              "      <td>San Francisco</td>\n",
              "      <td>California</td>\n",
              "      <td>94122</td>\n",
              "      <td>West</td>\n",
              "      <td>Office Supplies</td>\n",
              "      <td>Labels</td>\n",
              "      <td>41.400</td>\n",
              "      <td>4</td>\n",
              "      <td>0.0</td>\n",
              "      <td>19.8720</td>\n",
              "    </tr>\n",
              "    <tr>\n",
              "      <th>6146</th>\n",
              "      <td>Standard Class</td>\n",
              "      <td>Corporate</td>\n",
              "      <td>United States</td>\n",
              "      <td>San Francisco</td>\n",
              "      <td>California</td>\n",
              "      <td>94122</td>\n",
              "      <td>West</td>\n",
              "      <td>Office Supplies</td>\n",
              "      <td>Art</td>\n",
              "      <td>11.760</td>\n",
              "      <td>4</td>\n",
              "      <td>0.0</td>\n",
              "      <td>3.1752</td>\n",
              "    </tr>\n",
              "    <tr>\n",
              "      <th>6334</th>\n",
              "      <td>Standard Class</td>\n",
              "      <td>Consumer</td>\n",
              "      <td>United States</td>\n",
              "      <td>New York City</td>\n",
              "      <td>New York</td>\n",
              "      <td>10011</td>\n",
              "      <td>East</td>\n",
              "      <td>Office Supplies</td>\n",
              "      <td>Paper</td>\n",
              "      <td>49.120</td>\n",
              "      <td>4</td>\n",
              "      <td>0.0</td>\n",
              "      <td>23.0864</td>\n",
              "    </tr>\n",
              "    <tr>\n",
              "      <th>6357</th>\n",
              "      <td>Standard Class</td>\n",
              "      <td>Corporate</td>\n",
              "      <td>United States</td>\n",
              "      <td>Seattle</td>\n",
              "      <td>Washington</td>\n",
              "      <td>98103</td>\n",
              "      <td>West</td>\n",
              "      <td>Office Supplies</td>\n",
              "      <td>Paper</td>\n",
              "      <td>25.920</td>\n",
              "      <td>4</td>\n",
              "      <td>0.0</td>\n",
              "      <td>12.4416</td>\n",
              "    </tr>\n",
              "    <tr>\n",
              "      <th>7608</th>\n",
              "      <td>Standard Class</td>\n",
              "      <td>Consumer</td>\n",
              "      <td>United States</td>\n",
              "      <td>San Francisco</td>\n",
              "      <td>California</td>\n",
              "      <td>94122</td>\n",
              "      <td>West</td>\n",
              "      <td>Office Supplies</td>\n",
              "      <td>Paper</td>\n",
              "      <td>25.920</td>\n",
              "      <td>4</td>\n",
              "      <td>0.0</td>\n",
              "      <td>12.4416</td>\n",
              "    </tr>\n",
              "    <tr>\n",
              "      <th>7735</th>\n",
              "      <td>Standard Class</td>\n",
              "      <td>Corporate</td>\n",
              "      <td>United States</td>\n",
              "      <td>Seattle</td>\n",
              "      <td>Washington</td>\n",
              "      <td>98105</td>\n",
              "      <td>West</td>\n",
              "      <td>Office Supplies</td>\n",
              "      <td>Paper</td>\n",
              "      <td>19.440</td>\n",
              "      <td>3</td>\n",
              "      <td>0.0</td>\n",
              "      <td>9.3312</td>\n",
              "    </tr>\n",
              "    <tr>\n",
              "      <th>7759</th>\n",
              "      <td>Standard Class</td>\n",
              "      <td>Corporate</td>\n",
              "      <td>United States</td>\n",
              "      <td>Houston</td>\n",
              "      <td>Texas</td>\n",
              "      <td>77041</td>\n",
              "      <td>Central</td>\n",
              "      <td>Office Supplies</td>\n",
              "      <td>Paper</td>\n",
              "      <td>15.552</td>\n",
              "      <td>3</td>\n",
              "      <td>0.2</td>\n",
              "      <td>5.4432</td>\n",
              "    </tr>\n",
              "    <tr>\n",
              "      <th>8032</th>\n",
              "      <td>First Class</td>\n",
              "      <td>Consumer</td>\n",
              "      <td>United States</td>\n",
              "      <td>Houston</td>\n",
              "      <td>Texas</td>\n",
              "      <td>77041</td>\n",
              "      <td>Central</td>\n",
              "      <td>Office Supplies</td>\n",
              "      <td>Paper</td>\n",
              "      <td>47.952</td>\n",
              "      <td>3</td>\n",
              "      <td>0.2</td>\n",
              "      <td>16.1838</td>\n",
              "    </tr>\n",
              "    <tr>\n",
              "      <th>8095</th>\n",
              "      <td>Second Class</td>\n",
              "      <td>Consumer</td>\n",
              "      <td>United States</td>\n",
              "      <td>Seattle</td>\n",
              "      <td>Washington</td>\n",
              "      <td>98115</td>\n",
              "      <td>West</td>\n",
              "      <td>Office Supplies</td>\n",
              "      <td>Paper</td>\n",
              "      <td>12.960</td>\n",
              "      <td>2</td>\n",
              "      <td>0.0</td>\n",
              "      <td>6.2208</td>\n",
              "    </tr>\n",
              "    <tr>\n",
              "      <th>9262</th>\n",
              "      <td>Standard Class</td>\n",
              "      <td>Consumer</td>\n",
              "      <td>United States</td>\n",
              "      <td>Detroit</td>\n",
              "      <td>Michigan</td>\n",
              "      <td>48227</td>\n",
              "      <td>Central</td>\n",
              "      <td>Furniture</td>\n",
              "      <td>Chairs</td>\n",
              "      <td>389.970</td>\n",
              "      <td>3</td>\n",
              "      <td>0.0</td>\n",
              "      <td>35.0973</td>\n",
              "    </tr>\n",
              "    <tr>\n",
              "      <th>9363</th>\n",
              "      <td>Standard Class</td>\n",
              "      <td>Home Office</td>\n",
              "      <td>United States</td>\n",
              "      <td>Seattle</td>\n",
              "      <td>Washington</td>\n",
              "      <td>98105</td>\n",
              "      <td>West</td>\n",
              "      <td>Furniture</td>\n",
              "      <td>Furnishings</td>\n",
              "      <td>22.140</td>\n",
              "      <td>3</td>\n",
              "      <td>0.0</td>\n",
              "      <td>6.4206</td>\n",
              "    </tr>\n",
              "    <tr>\n",
              "      <th>9477</th>\n",
              "      <td>Second Class</td>\n",
              "      <td>Corporate</td>\n",
              "      <td>United States</td>\n",
              "      <td>Chicago</td>\n",
              "      <td>Illinois</td>\n",
              "      <td>60653</td>\n",
              "      <td>Central</td>\n",
              "      <td>Office Supplies</td>\n",
              "      <td>Binders</td>\n",
              "      <td>3.564</td>\n",
              "      <td>3</td>\n",
              "      <td>0.8</td>\n",
              "      <td>-6.2370</td>\n",
              "    </tr>\n",
              "  </tbody>\n",
              "</table>\n",
              "</div>"
            ],
            "text/plain": [
              "           Ship Mode      Segment        Country  ... Quantity Discount   Profit\n",
              "950   Standard Class  Home Office  United States  ...        3      0.2   5.4432\n",
              "3406  Standard Class  Home Office  United States  ...        2      0.3 -12.0588\n",
              "3670  Standard Class     Consumer  United States  ...        2      0.2   3.6288\n",
              "4117  Standard Class     Consumer  United States  ...        3      0.0   9.3312\n",
              "4553  Standard Class     Consumer  United States  ...        3      0.0   5.7780\n",
              "5905        Same Day  Home Office  United States  ...        4      0.0  19.8720\n",
              "6146  Standard Class    Corporate  United States  ...        4      0.0   3.1752\n",
              "6334  Standard Class     Consumer  United States  ...        4      0.0  23.0864\n",
              "6357  Standard Class    Corporate  United States  ...        4      0.0  12.4416\n",
              "7608  Standard Class     Consumer  United States  ...        4      0.0  12.4416\n",
              "7735  Standard Class    Corporate  United States  ...        3      0.0   9.3312\n",
              "7759  Standard Class    Corporate  United States  ...        3      0.2   5.4432\n",
              "8032     First Class     Consumer  United States  ...        3      0.2  16.1838\n",
              "8095    Second Class     Consumer  United States  ...        2      0.0   6.2208\n",
              "9262  Standard Class     Consumer  United States  ...        3      0.0  35.0973\n",
              "9363  Standard Class  Home Office  United States  ...        3      0.0   6.4206\n",
              "9477    Second Class    Corporate  United States  ...        3      0.8  -6.2370\n",
              "\n",
              "[17 rows x 13 columns]"
            ]
          },
          "metadata": {
            "tags": []
          },
          "execution_count": 16
        }
      ]
    },
    {
      "cell_type": "markdown",
      "metadata": {
        "id": "ga2aGYgbjSlt"
      },
      "source": [
        "There are 17 duplicate records in our dataset"
      ]
    },
    {
      "cell_type": "code",
      "metadata": {
        "id": "C1w4fK20jCJn"
      },
      "source": [
        "#drop the duplicate values\n",
        "df.drop_duplicates(inplace=True)"
      ],
      "execution_count": 17,
      "outputs": []
    },
    {
      "cell_type": "code",
      "metadata": {
        "colab": {
          "base_uri": "https://localhost:8080/"
        },
        "id": "l1I2wrZXjk7A",
        "outputId": "36c2f60f-194f-4ebd-91eb-efd26faba40a"
      },
      "source": [
        "#check again for duplicates\n",
        "dpl=df.duplicated()\n",
        "dpl.sum()"
      ],
      "execution_count": 18,
      "outputs": [
        {
          "output_type": "execute_result",
          "data": {
            "text/plain": [
              "0"
            ]
          },
          "metadata": {
            "tags": []
          },
          "execution_count": 18
        }
      ]
    },
    {
      "cell_type": "markdown",
      "metadata": {
        "id": "XHwyQq1_j5bL"
      },
      "source": [
        "Now there are no duplicate records in the dataset"
      ]
    },
    {
      "cell_type": "code",
      "metadata": {
        "colab": {
          "base_uri": "https://localhost:8080/"
        },
        "id": "JcaStmYfj3zz",
        "outputId": "fc8d8947-bb6a-47d1-8000-b570f63f82c2"
      },
      "source": [
        "df.columns"
      ],
      "execution_count": 19,
      "outputs": [
        {
          "output_type": "execute_result",
          "data": {
            "text/plain": [
              "Index(['Ship Mode', 'Segment', 'Country', 'City', 'State', 'Postal Code',\n",
              "       'Region', 'Category', 'Sub-Category', 'Sales', 'Quantity', 'Discount',\n",
              "       'Profit'],\n",
              "      dtype='object')"
            ]
          },
          "metadata": {
            "tags": []
          },
          "execution_count": 19
        }
      ]
    },
    {
      "cell_type": "code",
      "metadata": {
        "colab": {
          "base_uri": "https://localhost:8080/"
        },
        "id": "TJColN7JoQd7",
        "outputId": "90b53799-3604-4a2f-d7c9-920c6ad56d2e"
      },
      "source": [
        "#check the unique values in the dataset\n",
        "df.nunique()"
      ],
      "execution_count": 20,
      "outputs": [
        {
          "output_type": "execute_result",
          "data": {
            "text/plain": [
              "Ship Mode          4\n",
              "Segment            3\n",
              "Country            1\n",
              "City             531\n",
              "State             49\n",
              "Postal Code      631\n",
              "Region             4\n",
              "Category           3\n",
              "Sub-Category      17\n",
              "Sales           5825\n",
              "Quantity          14\n",
              "Discount          12\n",
              "Profit          7287\n",
              "dtype: int64"
            ]
          },
          "metadata": {
            "tags": []
          },
          "execution_count": 20
        }
      ]
    },
    {
      "cell_type": "code",
      "metadata": {
        "colab": {
          "base_uri": "https://localhost:8080/"
        },
        "id": "XvSi0W2-oZSC",
        "outputId": "f5958fc0-7722-4f12-ce30-87ec7ea9c795"
      },
      "source": [
        "df['Category'].unique()"
      ],
      "execution_count": 21,
      "outputs": [
        {
          "output_type": "execute_result",
          "data": {
            "text/plain": [
              "array(['Furniture', 'Office Supplies', 'Technology'], dtype=object)"
            ]
          },
          "metadata": {
            "tags": []
          },
          "execution_count": 21
        }
      ]
    },
    {
      "cell_type": "code",
      "metadata": {
        "colab": {
          "base_uri": "https://localhost:8080/"
        },
        "id": "coXsIvwgouXG",
        "outputId": "a107ecbb-e73b-4f80-9978-3e29218d149d"
      },
      "source": [
        "df['Sub-Category'].unique()"
      ],
      "execution_count": 22,
      "outputs": [
        {
          "output_type": "execute_result",
          "data": {
            "text/plain": [
              "array(['Bookcases', 'Chairs', 'Labels', 'Tables', 'Storage',\n",
              "       'Furnishings', 'Art', 'Phones', 'Binders', 'Appliances', 'Paper',\n",
              "       'Accessories', 'Envelopes', 'Fasteners', 'Supplies', 'Machines',\n",
              "       'Copiers'], dtype=object)"
            ]
          },
          "metadata": {
            "tags": []
          },
          "execution_count": 22
        }
      ]
    },
    {
      "cell_type": "code",
      "metadata": {
        "colab": {
          "base_uri": "https://localhost:8080/",
          "height": 350
        },
        "id": "s20qdkwoLM87",
        "outputId": "3fac2b76-f7bd-4117-8583-0425697f039f"
      },
      "source": [
        "segment=(df['Segment'].value_counts()/len(df['Segment'])*100).plot(kind='bar', color='Blue')\n",
        "plt.title('Analyzing Segment of people buying from Superstore')"
      ],
      "execution_count": 23,
      "outputs": [
        {
          "output_type": "execute_result",
          "data": {
            "text/plain": [
              "Text(0.5, 1.0, 'Analyzing Segment of people buying from Superstore')"
            ]
          },
          "metadata": {
            "tags": []
          },
          "execution_count": 23
        },
        {
          "output_type": "display_data",
          "data": {
            "image/png": "[encoded data removed]",
            "text/plain": [
              "<Figure size 432x288 with 1 Axes>"
            ]
          },
          "metadata": {
            "tags": [],
            "needs_background": "light"
          }
        }
      ]
    },
    {
      "cell_type": "code",
      "metadata": {
        "colab": {
          "base_uri": "https://localhost:8080/",
          "height": 470
        },
        "id": "P3wA2WqnNfc1",
        "outputId": "88864f4e-c6d5-4f85-a5e6-606b2708c71f"
      },
      "source": [
        "plt.figure(figsize=(12,5))\n",
        "plt.title(\"Number of customers buying from the Superstore\")\n",
        "plt.pie(df['Segment'].value_counts(),labels=df['Segment'].value_counts().index, autopct='%1.1f%%')"
      ],
      "execution_count": 24,
      "outputs": [
        {
          "output_type": "execute_result",
          "data": {
            "text/plain": [
              "([<matplotlib.patches.Wedge at 0x7f144c76b3d0>,\n",
              "  <matplotlib.patches.Wedge at 0x7f144c76ba10>,\n",
              "  <matplotlib.patches.Wedge at 0x7f144c6f82d0>],\n",
              " [Text(-0.0673271932456651, 1.0979376344081029, 'Consumer'),\n",
              "  Text(-0.5263377375767172, -0.9659029899542826, 'Corporate'),\n",
              "  Text(0.9318767010824192, -0.5844705415842171, 'Home Office')],\n",
              " [Text(-0.0367239235885446, 0.5988750733135106, '51.9%'),\n",
              "  Text(-0.2870933114054821, -0.5268561763386995, '30.2%'),\n",
              "  Text(0.5082963824085922, -0.3188021135913911, '17.8%')])"
            ]
          },
          "metadata": {
            "tags": []
          },
          "execution_count": 24
        },
        {
          "output_type": "display_data",
          "data": {
            "image/png": "[encoded data removed]",
            "text/plain": [
              "<Figure size 864x360 with 1 Axes>"
            ]
          },
          "metadata": {
            "tags": []
          }
        }
      ]
    },
    {
      "cell_type": "markdown",
      "metadata": {
        "id": "dbwEA6Hjf2zo"
      },
      "source": [
        "From the above chart we can conclude that, 51.9% are consumers buying from the Superstore, 30.2% are from corporate and 17.8% are the Home Office poeple who buy from the Superstore."
      ]
    },
    {
      "cell_type": "code",
      "metadata": {
        "colab": {
          "base_uri": "https://localhost:8080/"
        },
        "id": "JHuDEVu2gbFF",
        "outputId": "402aa47e-4af8-4293-af95-e7660ee74c8d"
      },
      "source": [
        "df['Ship Mode'].value_counts()"
      ],
      "execution_count": 25,
      "outputs": [
        {
          "output_type": "execute_result",
          "data": {
            "text/plain": [
              "Standard Class    5955\n",
              "Second Class      1943\n",
              "First Class       1537\n",
              "Same Day           542\n",
              "Name: Ship Mode, dtype: int64"
            ]
          },
          "metadata": {
            "tags": []
          },
          "execution_count": 25
        }
      ]
    },
    {
      "cell_type": "code",
      "metadata": {
        "colab": {
          "base_uri": "https://localhost:8080/",
          "height": 363
        },
        "id": "0j3xzW0Ogm--",
        "outputId": "57ee01ea-2349-48e9-c22f-db8964e41ba8"
      },
      "source": [
        "ship_mode=(df['Ship Mode'].value_counts()/len(df['Ship Mode'])*100).plot(kind='bar', color='Blue')\n",
        "plt.title('Analyzing Ship Mode for Superstore')"
      ],
      "execution_count": 26,
      "outputs": [
        {
          "output_type": "execute_result",
          "data": {
            "text/plain": [
              "Text(0.5, 1.0, 'Analyzing Ship Mode for Superstore')"
            ]
          },
          "metadata": {
            "tags": []
          },
          "execution_count": 26
        },
        {
          "output_type": "display_data",
          "data": {
            "image/png": "[encoded data removed]",
            "text/plain": [
              "<Figure size 432x288 with 1 Axes>"
            ]
          },
          "metadata": {
            "tags": [],
            "needs_background": "light"
          }
        }
      ]
    },
    {
      "cell_type": "code",
      "metadata": {
        "colab": {
          "base_uri": "https://localhost:8080/",
          "height": 521
        },
        "id": "RuKWg-22hbAh",
        "outputId": "1054e062-90f7-445f-86b0-d49cbd2d553b"
      },
      "source": [
        "plt.figure(figsize=(12,5))\n",
        "plt.title(\"Analysing Ship Mode for Superstore\")\n",
        "plt.pie(df['Ship Mode'].value_counts(),labels=df['Ship Mode'].value_counts().index, autopct='%1.1f%%')"
      ],
      "execution_count": 27,
      "outputs": [
        {
          "output_type": "execute_result",
          "data": {
            "text/plain": [
              "([<matplotlib.patches.Wedge at 0x7f144ed4d490>,\n",
              "  <matplotlib.patches.Wedge at 0x7f144ed4da50>,\n",
              "  <matplotlib.patches.Wedge at 0x7f144ed58150>,\n",
              "  <matplotlib.patches.Wedge at 0x7f144ed58cd0>],\n",
              " [Text(-0.32962457301025583, 1.0494511140914602, 'Standard Class'),\n",
              "  Text(-0.3775057080207549, -1.0331938058330337, 'Second Class'),\n",
              "  Text(0.7461624595548612, -0.8082336196614445, 'First Class'),\n",
              "  Text(1.0840189091308712, -0.18682345850218163, 'Same Day')],\n",
              " [Text(-0.1797952216419577, 0.5724278804135237, '59.7%'),\n",
              "  Text(-0.2059122043749572, -0.5635602577271093, '19.5%'),\n",
              "  Text(0.4069977052117424, -0.4408547016335151, '15.4%'),\n",
              "  Text(0.5912830413441115, -0.1019037046375536, '5.4%')])"
            ]
          },
          "metadata": {
            "tags": []
          },
          "execution_count": 27
        },
        {
          "output_type": "display_data",
          "data": {
            "image/png": "[encoded data removed]",
            "text/plain": [
              "<Figure size 864x360 with 1 Axes>"
            ]
          },
          "metadata": {
            "tags": []
          }
        }
      ]
    },
    {
      "cell_type": "markdown",
      "metadata": {
        "id": "c728_g73iD0w"
      },
      "source": [
        "From the above chart we can conclude that 59.7% of the deliveries belog to the Standard Class, 19.5% belongs to the Second Class, 15.4% belongs tothe First Class whereas 5.4% of the deliveries made on the same day."
      ]
    },
    {
      "cell_type": "markdown",
      "metadata": {
        "id": "Cs4gkltriqDs"
      },
      "source": [
        "Analyzing Sub category of the items in the Superstore."
      ]
    },
    {
      "cell_type": "code",
      "metadata": {
        "colab": {
          "base_uri": "https://localhost:8080/",
          "height": 347
        },
        "id": "G6Yjh_TRihGJ",
        "outputId": "65c1f039-691b-4a97-c444-a5072083c5e4"
      },
      "source": [
        "sub_category=(df['Sub-Category'].value_counts()/len(df['Sub-Category'])*100).plot(kind='bar', color='Blue')\n",
        "plt.title('Analyzing Sub Category of items in Superstore')"
      ],
      "execution_count": 28,
      "outputs": [
        {
          "output_type": "execute_result",
          "data": {
            "text/plain": [
              "Text(0.5, 1.0, 'Analyzing Sub Category of items in Superstore')"
            ]
          },
          "metadata": {
            "tags": []
          },
          "execution_count": 28
        },
        {
          "output_type": "display_data",
          "data": {
            "image/png": "[encoded data removed]",
            "text/plain": [
              "<Figure size 432x288 with 1 Axes>"
            ]
          },
          "metadata": {
            "tags": [],
            "needs_background": "light"
          }
        }
      ]
    },
    {
      "cell_type": "code",
      "metadata": {
        "colab": {
          "base_uri": "https://localhost:8080/",
          "height": 1000
        },
        "id": "Ci-BGrKbjTDc",
        "outputId": "8fc2b23f-27b7-4baa-a004-6066c38c6964"
      },
      "source": [
        "plt.figure(figsize=(12,5))\n",
        "plt.title(\"Analysing Sub-Category of items in the Superstore\")\n",
        "plt.pie(df['Sub-Category'].value_counts(),labels=df['Sub-Category'].value_counts().index, autopct='%1.1f%%')"
      ],
      "execution_count": 29,
      "outputs": [
        {
          "output_type": "execute_result",
          "data": {
            "text/plain": [
              "([<matplotlib.patches.Wedge at 0x7f144c6bf610>,\n",
              "  <matplotlib.patches.Wedge at 0x7f144c6bfe10>,\n",
              "  <matplotlib.patches.Wedge at 0x7f144c6cb6d0>,\n",
              "  <matplotlib.patches.Wedge at 0x7f144c6cbfd0>,\n",
              "  <matplotlib.patches.Wedge at 0x7f144c6d5b50>,\n",
              "  <matplotlib.patches.Wedge at 0x7f144c6e04d0>,\n",
              "  <matplotlib.patches.Wedge at 0x7f144c6e0a90>,\n",
              "  <matplotlib.patches.Wedge at 0x7f144c6ea350>,\n",
              "  <matplotlib.patches.Wedge at 0x7f144c6d5850>,\n",
              "  <matplotlib.patches.Wedge at 0x7f144c6e01d0>,\n",
              "  <matplotlib.patches.Wedge at 0x7f144ede4c90>,\n",
              "  <matplotlib.patches.Wedge at 0x7f144c682450>,\n",
              "  <matplotlib.patches.Wedge at 0x7f144c682cd0>,\n",
              "  <matplotlib.patches.Wedge at 0x7f144c68d590>,\n",
              "  <matplotlib.patches.Wedge at 0x7f144c68de10>,\n",
              "  <matplotlib.patches.Wedge at 0x7f144c6996d0>,\n",
              "  <matplotlib.patches.Wedge at 0x7f144c699f50>],\n",
              " [Text(0.976073756684635, 0.5072277806977297, 'Binders'),\n",
              "  Text(0.2016538437473977, 1.081358278879808, 'Paper'),\n",
              "  Text(-0.5698750957020162, 0.9408731983102814, 'Furnishings'),\n",
              "  Text(-0.9927555531357746, 0.4737472023327234, 'Phones'),\n",
              "  Text(-1.0943856106501602, -0.1109961044445972, 'Storage'),\n",
              "  Text(-0.8966693479300548, -0.6371688006193416, 'Art'),\n",
              "  Text(-0.4869899755703049, -0.9863269050847361, 'Accessories'),\n",
              "  Text(-0.023032083622319597, -1.0997588477134497, 'Chairs'),\n",
              "  Text(0.3454481080284471, -1.044349369061698, 'Appliances'),\n",
              "  Text(0.6032749708252737, -0.9198148235246948, 'Labels'),\n",
              "  Text(0.7854334460362346, -0.7701261596956992, 'Tables'),\n",
              "  Text(0.9108832734856797, -0.6166779241095085, 'Envelopes'),\n",
              "  Text(0.9936488204365672, -0.47187076794925403, 'Bookcases'),\n",
              "  Text(1.0498137341525071, -0.32846784254287287, 'Fasteners'),\n",
              "  Text(1.0831847727456425, -0.19160049084480674, 'Supplies'),\n",
              "  Text(1.0965661256424153, -0.08684890381336297, 'Machines'),\n",
              "  Text(1.0997478460662458, -0.02355154077025508, 'Copiers')],\n",
              " [Text(0.5324038672825281, 0.2766696985623979, '15.3%'),\n",
              "  Text(0.10999300568039873, 0.5898317884798951, '13.6%'),\n",
              "  Text(-0.3108409612920088, 0.5132035627146989, '9.6%'),\n",
              "  Text(-0.5415030289831497, 0.2584075649087582, '8.9%'),\n",
              "  Text(-0.5969376058091782, -0.06054332969705301, '8.5%'),\n",
              "  Text(-0.4890923715982117, -0.3475466185196408, '8.0%'),\n",
              "  Text(-0.2656308957656208, -0.5379964936825833, '7.8%'),\n",
              "  Text(-0.012562954703083416, -0.5998684623891544, '6.2%'),\n",
              "  Text(0.1884262407427893, -0.5696451103972897, '4.7%'),\n",
              "  Text(0.3290590749956038, -0.5017171764680153, '3.6%'),\n",
              "  Text(0.4284182432924915, -0.42006881437947224, '3.2%'),\n",
              "  Text(0.4968454219012798, -0.33636977678700464, '2.5%'),\n",
              "  Text(0.541990265692673, -0.2573840552450476, '2.3%'),\n",
              "  Text(0.5726256731740947, -0.1791642777506579, '2.2%'),\n",
              "  Text(0.5908280578612595, -0.10450935864262184, '1.9%'),\n",
              "  Text(0.5981269776231355, -0.04737212935274343, '1.2%'),\n",
              "  Text(0.5998624614906795, -0.01284629496559368, '0.7%')])"
            ]
          },
          "metadata": {
            "tags": []
          },
          "execution_count": 29
        },
        {
          "output_type": "display_data",
          "data": {
            "image/png": "[encoded data removed]",
            "text/plain": [
              "<Figure size 864x360 with 1 Axes>"
            ]
          },
          "metadata": {
            "tags": []
          }
        }
      ]
    },
    {
      "cell_type": "markdown",
      "metadata": {
        "id": "Qviek7ixjmfU"
      },
      "source": [
        "From the above chart we can conclude that most of the sub-Category falls under Office supply."
      ]
    },
    {
      "cell_type": "markdown",
      "metadata": {
        "id": "AfV00u4Ekemh"
      },
      "source": [
        "Analyzing category, the items belong in the superstore"
      ]
    },
    {
      "cell_type": "code",
      "metadata": {
        "colab": {
          "base_uri": "https://localhost:8080/",
          "height": 363
        },
        "id": "UqZZFFGBkjbo",
        "outputId": "182fce20-07dc-4bf9-cc41-03143768a0a9"
      },
      "source": [
        "category=(df['Category'].value_counts()/len(df['Category'])*100).plot(kind='bar', color='Blue')\n",
        "plt.title('Analyzing Category the items belong in Superstore')"
      ],
      "execution_count": 30,
      "outputs": [
        {
          "output_type": "execute_result",
          "data": {
            "text/plain": [
              "Text(0.5, 1.0, 'Analyzing Category the items belong in Superstore')"
            ]
          },
          "metadata": {
            "tags": []
          },
          "execution_count": 30
        },
        {
          "output_type": "display_data",
          "data": {
            "image/png": "[encoded data removed]",
            "text/plain": [
              "<Figure size 432x288 with 1 Axes>"
            ]
          },
          "metadata": {
            "tags": [],
            "needs_background": "light"
          }
        }
      ]
    },
    {
      "cell_type": "code",
      "metadata": {
        "colab": {
          "base_uri": "https://localhost:8080/",
          "height": 470
        },
        "id": "VcqtHMS3lAeN",
        "outputId": "97c153ca-20eb-4c68-9d3b-24c51e7c796f"
      },
      "source": [
        "plt.figure(figsize=(12,5))\n",
        "plt.title(\"Analysing Category the items belong in supersotre\")\n",
        "plt.pie(df['Category'].value_counts(),labels=df['Category'].value_counts().index, autopct='%1.1f%%')"
      ],
      "execution_count": 31,
      "outputs": [
        {
          "output_type": "execute_result",
          "data": {
            "text/plain": [
              "([<matplotlib.patches.Wedge at 0x7f144c5d8a90>,\n",
              "  <matplotlib.patches.Wedge at 0x7f144c5e5210>,\n",
              "  <matplotlib.patches.Wedge at 0x7f144c5e5a90>],\n",
              " [Text(-0.3484064762155767, 1.0433661520918938, 'Office Supplies'),\n",
              "  Text(-0.2820512427913923, -1.063224856951638, 'Furniture'),\n",
              "  Text(0.9191494357368781, -0.6042882712618032, 'Technology')],\n",
              " [Text(-0.1900398961175873, 0.569108810231942, '60.3%'),\n",
              "  Text(-0.1538461324316685, -0.5799408310645298, '21.2%'),\n",
              "  Text(0.5013542376746608, -0.32961178432461985, '18.5%')])"
            ]
          },
          "metadata": {
            "tags": []
          },
          "execution_count": 31
        },
        {
          "output_type": "display_data",
          "data": {
            "image/png": "[encoded data removed]",
            "text/plain": [
              "<Figure size 864x360 with 1 Axes>"
            ]
          },
          "metadata": {
            "tags": []
          }
        }
      ]
    },
    {
      "cell_type": "markdown",
      "metadata": {
        "id": "Ur9fElJllTCF"
      },
      "source": [
        "From the above chart, we can conclude that Office has the highest sales whereas the Technology has the least sales."
      ]
    },
    {
      "cell_type": "markdown",
      "metadata": {
        "id": "sPcClKmll9w8"
      },
      "source": [
        "Find the maximum order of Sub-Category itmes"
      ]
    },
    {
      "cell_type": "code",
      "metadata": {
        "colab": {
          "base_uri": "https://localhost:8080/",
          "height": 607
        },
        "id": "7sDK6ykUloYA",
        "outputId": "ef436142-a30d-440f-f6e0-291ea0337d22"
      },
      "source": [
        "plt.figure(figsize=(15,8))\n",
        "sns.countplot(x='Sub-Category', hue=\"Region\", data=df)\n",
        "plt.xlabel(\"Sub-category\", size=12, color='Blue')\n",
        "plt.ylabel(\"Number of Orders\", size=16, color='blue')\n",
        "plt.xticks(rotation=\"vertical\", size=20)\n",
        "plt.show()"
      ],
      "execution_count": 32,
      "outputs": [
        {
          "output_type": "display_data",
          "data": {
            "image/png": "[encoded data removed]",
            "text/plain": [
              "<Figure size 1080x576 with 1 Axes>"
            ]
          },
          "metadata": {
            "tags": [],
            "needs_background": "light"
          }
        }
      ]
    },
    {
      "cell_type": "markdown",
      "metadata": {
        "id": "MIBcQ0LZnR3U"
      },
      "source": [
        "From the above chart, we can conclude that Binders have maximum sales followed by Papers in all the Regions. On the other hand, copiers has least number of orders."
      ]
    },
    {
      "cell_type": "markdown",
      "metadata": {
        "id": "9TN92VhDoIpJ"
      },
      "source": [
        "Using Countplot to plot state and number of orders with respect to region"
      ]
    },
    {
      "cell_type": "code",
      "metadata": {
        "colab": {
          "base_uri": "https://localhost:8080/",
          "height": 689
        },
        "id": "c9_Z1_ucoUWt",
        "outputId": "71ce61fb-fd42-4000-fd2f-a651f000ee68"
      },
      "source": [
        "plt.figure(figsize=(15,8))\n",
        "sns.countplot(x='State', hue=\"Region\", data=df)\n",
        "plt.xlabel(\"State\", size=12, color='Blue')\n",
        "plt.ylabel(\"Number of Orders\", size=16, color='blue')\n",
        "plt.xticks(rotation=\"vertical\", size=20)\n",
        "plt.show()"
      ],
      "execution_count": 33,
      "outputs": [
        {
          "output_type": "display_data",
          "data": {
            "image/png": "[encoded data removed]",
            "text/plain": [
              "<Figure size 1080x576 with 1 Axes>"
            ]
          },
          "metadata": {
            "tags": [],
            "needs_background": "light"
          }
        }
      ]
    },
    {
      "cell_type": "markdown",
      "metadata": {
        "id": "rLA3HCAZo_8f"
      },
      "source": [
        "From the above graph, we can conclude that California West has maximum number of orders as compared to New York East"
      ]
    },
    {
      "cell_type": "markdown",
      "metadata": {
        "id": "e1xICIeMp7z5"
      },
      "source": [
        "Plot the state with highest order without including Region"
      ]
    },
    {
      "cell_type": "code",
      "metadata": {
        "id": "V_UDwzBwIw4B",
        "colab": {
          "base_uri": "https://localhost:8080/",
          "height": 689
        },
        "outputId": "b477f3bb-a8a8-4835-c788-18080fe38cf3"
      },
      "source": [
        "plt.figure(figsize=(15,8))\n",
        "df['State'].value_counts().plot.bar(color='blue')\n",
        "plt.xlabel('States', size=12, color='green')\n",
        "plt.xticks(size=20)\n",
        "plt.ylabel('Number of Orders', size=12, color='Green')\n",
        "plt.show()"
      ],
      "execution_count": 34,
      "outputs": [
        {
          "output_type": "display_data",
          "data": {
            "image/png": "[encoded data removed]",
            "text/plain": [
              "<Figure size 1080x576 with 1 Axes>"
            ]
          },
          "metadata": {
            "tags": [],
            "needs_background": "light"
          }
        }
      ]
    },
    {
      "cell_type": "markdown",
      "metadata": {
        "id": "r-YUEvY9rH7B"
      },
      "source": [
        "California has highest number of orders"
      ]
    },
    {
      "cell_type": "markdown",
      "metadata": {
        "id": "n9s2SiyorYDr"
      },
      "source": [
        "Maximum profit of a particular item"
      ]
    },
    {
      "cell_type": "code",
      "metadata": {
        "colab": {
          "base_uri": "https://localhost:8080/",
          "height": 603
        },
        "id": "qHXEPPwMq1vg",
        "outputId": "93132713-f9a5-4c86-c8b3-f7cdb31e7de8"
      },
      "source": [
        "profit=pd.DataFrame(df.groupby('Sub-Category').sum()['Profit'])\n",
        "profit"
      ],
      "execution_count": 35,
      "outputs": [
        {
          "output_type": "execute_result",
          "data": {
            "text/html": [
              "<div>\n",
              "<style scoped>\n",
              "    .dataframe tbody tr th:only-of-type {\n",
              "        vertical-align: middle;\n",
              "    }\n",
              "\n",
              "    .dataframe tbody tr th {\n",
              "        vertical-align: top;\n",
              "    }\n",
              "\n",
              "    .dataframe thead th {\n",
              "        text-align: right;\n",
              "    }\n",
              "</style>\n",
              "<table border=\"1\" class=\"dataframe\">\n",
              "  <thead>\n",
              "    <tr style=\"text-align: right;\">\n",
              "      <th></th>\n",
              "      <th>Profit</th>\n",
              "    </tr>\n",
              "    <tr>\n",
              "      <th>Sub-Category</th>\n",
              "      <th></th>\n",
              "    </tr>\n",
              "  </thead>\n",
              "  <tbody>\n",
              "    <tr>\n",
              "      <th>Accessories</th>\n",
              "      <td>41936.6357</td>\n",
              "    </tr>\n",
              "    <tr>\n",
              "      <th>Appliances</th>\n",
              "      <td>18138.0054</td>\n",
              "    </tr>\n",
              "    <tr>\n",
              "      <th>Art</th>\n",
              "      <td>6524.6118</td>\n",
              "    </tr>\n",
              "    <tr>\n",
              "      <th>Binders</th>\n",
              "      <td>30228.0003</td>\n",
              "    </tr>\n",
              "    <tr>\n",
              "      <th>Bookcases</th>\n",
              "      <td>-3472.5560</td>\n",
              "    </tr>\n",
              "    <tr>\n",
              "      <th>Chairs</th>\n",
              "      <td>26567.1278</td>\n",
              "    </tr>\n",
              "    <tr>\n",
              "      <th>Copiers</th>\n",
              "      <td>55617.8249</td>\n",
              "    </tr>\n",
              "    <tr>\n",
              "      <th>Envelopes</th>\n",
              "      <td>6964.1767</td>\n",
              "    </tr>\n",
              "    <tr>\n",
              "      <th>Fasteners</th>\n",
              "      <td>949.5182</td>\n",
              "    </tr>\n",
              "    <tr>\n",
              "      <th>Furnishings</th>\n",
              "      <td>13052.7230</td>\n",
              "    </tr>\n",
              "    <tr>\n",
              "      <th>Labels</th>\n",
              "      <td>5526.3820</td>\n",
              "    </tr>\n",
              "    <tr>\n",
              "      <th>Machines</th>\n",
              "      <td>3384.7569</td>\n",
              "    </tr>\n",
              "    <tr>\n",
              "      <th>Paper</th>\n",
              "      <td>33944.2395</td>\n",
              "    </tr>\n",
              "    <tr>\n",
              "      <th>Phones</th>\n",
              "      <td>44515.7306</td>\n",
              "    </tr>\n",
              "    <tr>\n",
              "      <th>Storage</th>\n",
              "      <td>21278.8264</td>\n",
              "    </tr>\n",
              "    <tr>\n",
              "      <th>Supplies</th>\n",
              "      <td>-1189.0995</td>\n",
              "    </tr>\n",
              "    <tr>\n",
              "      <th>Tables</th>\n",
              "      <td>-17725.4811</td>\n",
              "    </tr>\n",
              "  </tbody>\n",
              "</table>\n",
              "</div>"
            ],
            "text/plain": [
              "                  Profit\n",
              "Sub-Category            \n",
              "Accessories   41936.6357\n",
              "Appliances    18138.0054\n",
              "Art            6524.6118\n",
              "Binders       30228.0003\n",
              "Bookcases     -3472.5560\n",
              "Chairs        26567.1278\n",
              "Copiers       55617.8249\n",
              "Envelopes      6964.1767\n",
              "Fasteners       949.5182\n",
              "Furnishings   13052.7230\n",
              "Labels         5526.3820\n",
              "Machines       3384.7569\n",
              "Paper         33944.2395\n",
              "Phones        44515.7306\n",
              "Storage       21278.8264\n",
              "Supplies      -1189.0995\n",
              "Tables       -17725.4811"
            ]
          },
          "metadata": {
            "tags": []
          },
          "execution_count": 35
        }
      ]
    },
    {
      "cell_type": "code",
      "metadata": {
        "colab": {
          "base_uri": "https://localhost:8080/",
          "height": 546
        },
        "id": "l47fvpjvrvP_",
        "outputId": "1ce154a0-fddb-4f15-d8c3-21ec77c4b7d5"
      },
      "source": [
        "profit.plot.bar(figsize=(15,8), grid=True)\n",
        "plt.show()"
      ],
      "execution_count": 36,
      "outputs": [
        {
          "output_type": "display_data",
          "data": {
            "image/png": "[encoded data removed]",
            "text/plain": [
              "<Figure size 1080x576 with 1 Axes>"
            ]
          },
          "metadata": {
            "tags": [],
            "needs_background": "light"
          }
        }
      ]
    },
    {
      "cell_type": "markdown",
      "metadata": {
        "id": "rSYhLyE-sfo0"
      },
      "source": [
        "Maximum Sales of a particular item"
      ]
    },
    {
      "cell_type": "code",
      "metadata": {
        "colab": {
          "base_uri": "https://localhost:8080/",
          "height": 603
        },
        "id": "CO7fG4Z2sFCy",
        "outputId": "bde62edd-71a6-4326-8a56-172a7ba2a7ab"
      },
      "source": [
        "sales=pd.DataFrame(df.groupby('Sub-Category').sum()['Sales'])\n",
        "sales"
      ],
      "execution_count": 37,
      "outputs": [
        {
          "output_type": "execute_result",
          "data": {
            "text/html": [
              "<div>\n",
              "<style scoped>\n",
              "    .dataframe tbody tr th:only-of-type {\n",
              "        vertical-align: middle;\n",
              "    }\n",
              "\n",
              "    .dataframe tbody tr th {\n",
              "        vertical-align: top;\n",
              "    }\n",
              "\n",
              "    .dataframe thead th {\n",
              "        text-align: right;\n",
              "    }\n",
              "</style>\n",
              "<table border=\"1\" class=\"dataframe\">\n",
              "  <thead>\n",
              "    <tr style=\"text-align: right;\">\n",
              "      <th></th>\n",
              "      <th>Sales</th>\n",
              "    </tr>\n",
              "    <tr>\n",
              "      <th>Sub-Category</th>\n",
              "      <th></th>\n",
              "    </tr>\n",
              "  </thead>\n",
              "  <tbody>\n",
              "    <tr>\n",
              "      <th>Accessories</th>\n",
              "      <td>167380.3180</td>\n",
              "    </tr>\n",
              "    <tr>\n",
              "      <th>Appliances</th>\n",
              "      <td>107532.1610</td>\n",
              "    </tr>\n",
              "    <tr>\n",
              "      <th>Art</th>\n",
              "      <td>27107.0320</td>\n",
              "    </tr>\n",
              "    <tr>\n",
              "      <th>Binders</th>\n",
              "      <td>203409.1690</td>\n",
              "    </tr>\n",
              "    <tr>\n",
              "      <th>Bookcases</th>\n",
              "      <td>114879.9963</td>\n",
              "    </tr>\n",
              "    <tr>\n",
              "      <th>Chairs</th>\n",
              "      <td>327777.7610</td>\n",
              "    </tr>\n",
              "    <tr>\n",
              "      <th>Copiers</th>\n",
              "      <td>149528.0300</td>\n",
              "    </tr>\n",
              "    <tr>\n",
              "      <th>Envelopes</th>\n",
              "      <td>16476.4020</td>\n",
              "    </tr>\n",
              "    <tr>\n",
              "      <th>Fasteners</th>\n",
              "      <td>3024.2800</td>\n",
              "    </tr>\n",
              "    <tr>\n",
              "      <th>Furnishings</th>\n",
              "      <td>91683.0240</td>\n",
              "    </tr>\n",
              "    <tr>\n",
              "      <th>Labels</th>\n",
              "      <td>12444.9120</td>\n",
              "    </tr>\n",
              "    <tr>\n",
              "      <th>Machines</th>\n",
              "      <td>189238.6310</td>\n",
              "    </tr>\n",
              "    <tr>\n",
              "      <th>Paper</th>\n",
              "      <td>78224.1420</td>\n",
              "    </tr>\n",
              "    <tr>\n",
              "      <th>Phones</th>\n",
              "      <td>330007.0540</td>\n",
              "    </tr>\n",
              "    <tr>\n",
              "      <th>Storage</th>\n",
              "      <td>223843.6080</td>\n",
              "    </tr>\n",
              "    <tr>\n",
              "      <th>Supplies</th>\n",
              "      <td>46673.5380</td>\n",
              "    </tr>\n",
              "    <tr>\n",
              "      <th>Tables</th>\n",
              "      <td>206965.5320</td>\n",
              "    </tr>\n",
              "  </tbody>\n",
              "</table>\n",
              "</div>"
            ],
            "text/plain": [
              "                    Sales\n",
              "Sub-Category             \n",
              "Accessories   167380.3180\n",
              "Appliances    107532.1610\n",
              "Art            27107.0320\n",
              "Binders       203409.1690\n",
              "Bookcases     114879.9963\n",
              "Chairs        327777.7610\n",
              "Copiers       149528.0300\n",
              "Envelopes      16476.4020\n",
              "Fasteners       3024.2800\n",
              "Furnishings    91683.0240\n",
              "Labels         12444.9120\n",
              "Machines      189238.6310\n",
              "Paper          78224.1420\n",
              "Phones        330007.0540\n",
              "Storage       223843.6080\n",
              "Supplies       46673.5380\n",
              "Tables        206965.5320"
            ]
          },
          "metadata": {
            "tags": []
          },
          "execution_count": 37
        }
      ]
    },
    {
      "cell_type": "code",
      "metadata": {
        "colab": {
          "base_uri": "https://localhost:8080/",
          "height": 546
        },
        "id": "fH8hQVS2sot1",
        "outputId": "a7076512-bd8a-4502-b0ec-8ee5300e87bc"
      },
      "source": [
        "sales.plot.bar(figsize=(15,8), grid=True)\n",
        "plt.show()"
      ],
      "execution_count": 38,
      "outputs": [
        {
          "output_type": "display_data",
          "data": {
            "image/png": "[encoded data removed]",
            "text/plain": [
              "<Figure size 1080x576 with 1 Axes>"
            ]
          },
          "metadata": {
            "tags": [],
            "needs_background": "light"
          }
        }
      ]
    },
    {
      "cell_type": "markdown",
      "metadata": {
        "id": "0btXsUkJs557"
      },
      "source": [
        "Phone has highest number of sales"
      ]
    },
    {
      "cell_type": "markdown",
      "metadata": {
        "id": "8wZ-qQmhtD-Z"
      },
      "source": [
        "Maximum profit of a particular item that belongs to"
      ]
    },
    {
      "cell_type": "code",
      "metadata": {
        "colab": {
          "base_uri": "https://localhost:8080/",
          "height": 172
        },
        "id": "SyZVUZEUsvtI",
        "outputId": "e956bc0f-41ad-4fb1-9727-bd9ab95067df"
      },
      "source": [
        "category_profit=pd.DataFrame(df.groupby('Category').sum()['Profit'])\n",
        "category_profit"
      ],
      "execution_count": 39,
      "outputs": [
        {
          "output_type": "execute_result",
          "data": {
            "text/html": [
              "<div>\n",
              "<style scoped>\n",
              "    .dataframe tbody tr th:only-of-type {\n",
              "        vertical-align: middle;\n",
              "    }\n",
              "\n",
              "    .dataframe tbody tr th {\n",
              "        vertical-align: top;\n",
              "    }\n",
              "\n",
              "    .dataframe thead th {\n",
              "        text-align: right;\n",
              "    }\n",
              "</style>\n",
              "<table border=\"1\" class=\"dataframe\">\n",
              "  <thead>\n",
              "    <tr style=\"text-align: right;\">\n",
              "      <th></th>\n",
              "      <th>Profit</th>\n",
              "    </tr>\n",
              "    <tr>\n",
              "      <th>Category</th>\n",
              "      <th></th>\n",
              "    </tr>\n",
              "  </thead>\n",
              "  <tbody>\n",
              "    <tr>\n",
              "      <th>Furniture</th>\n",
              "      <td>18421.8137</td>\n",
              "    </tr>\n",
              "    <tr>\n",
              "      <th>Office Supplies</th>\n",
              "      <td>122364.6608</td>\n",
              "    </tr>\n",
              "    <tr>\n",
              "      <th>Technology</th>\n",
              "      <td>145454.9481</td>\n",
              "    </tr>\n",
              "  </tbody>\n",
              "</table>\n",
              "</div>"
            ],
            "text/plain": [
              "                      Profit\n",
              "Category                    \n",
              "Furniture         18421.8137\n",
              "Office Supplies  122364.6608\n",
              "Technology       145454.9481"
            ]
          },
          "metadata": {
            "tags": []
          },
          "execution_count": 39
        }
      ]
    },
    {
      "cell_type": "code",
      "metadata": {
        "colab": {
          "base_uri": "https://localhost:8080/",
          "height": 483
        },
        "id": "3C1HYbVAtbuE",
        "outputId": "43243210-c2b7-4d00-fa40-de0672625abd"
      },
      "source": [
        "plt.figure(figsize=(15,8))\n",
        "category_profit.groupby('Category').sum()['Profit'].plot.pie(autopct='%1.1f%%')"
      ],
      "execution_count": 40,
      "outputs": [
        {
          "output_type": "execute_result",
          "data": {
            "text/plain": [
              "<matplotlib.axes._subplots.AxesSubplot at 0x7f144a791c10>"
            ]
          },
          "metadata": {
            "tags": []
          },
          "execution_count": 40
        },
        {
          "output_type": "display_data",
          "data": {
            "image/png": "[encoded data removed]",
            "text/plain": [
              "<Figure size 1080x576 with 1 Axes>"
            ]
          },
          "metadata": {
            "tags": []
          }
        }
      ]
    },
    {
      "cell_type": "markdown",
      "metadata": {
        "id": "4cUd1jhiujWF"
      },
      "source": [
        "From the above chart it is clear that Technology has the highest profit"
      ]
    },
    {
      "cell_type": "markdown",
      "metadata": {
        "id": "49Gldj1Sv9-8"
      },
      "source": [
        "Finding the maximum sales of a particular item that belongs to "
      ]
    },
    {
      "cell_type": "code",
      "metadata": {
        "colab": {
          "base_uri": "https://localhost:8080/",
          "height": 172
        },
        "id": "YuLeP4c3t6Op",
        "outputId": "315529f3-abdf-4f1d-bb3c-66fc6f244c08"
      },
      "source": [
        "category_sales=pd.DataFrame(df.groupby('Category').sum()['Sales'])\n",
        "category_sales"
      ],
      "execution_count": 41,
      "outputs": [
        {
          "output_type": "execute_result",
          "data": {
            "text/html": [
              "<div>\n",
              "<style scoped>\n",
              "    .dataframe tbody tr th:only-of-type {\n",
              "        vertical-align: middle;\n",
              "    }\n",
              "\n",
              "    .dataframe tbody tr th {\n",
              "        vertical-align: top;\n",
              "    }\n",
              "\n",
              "    .dataframe thead th {\n",
              "        text-align: right;\n",
              "    }\n",
              "</style>\n",
              "<table border=\"1\" class=\"dataframe\">\n",
              "  <thead>\n",
              "    <tr style=\"text-align: right;\">\n",
              "      <th></th>\n",
              "      <th>Sales</th>\n",
              "    </tr>\n",
              "    <tr>\n",
              "      <th>Category</th>\n",
              "      <th></th>\n",
              "    </tr>\n",
              "  </thead>\n",
              "  <tbody>\n",
              "    <tr>\n",
              "      <th>Furniture</th>\n",
              "      <td>741306.3133</td>\n",
              "    </tr>\n",
              "    <tr>\n",
              "      <th>Office Supplies</th>\n",
              "      <td>718735.2440</td>\n",
              "    </tr>\n",
              "    <tr>\n",
              "      <th>Technology</th>\n",
              "      <td>836154.0330</td>\n",
              "    </tr>\n",
              "  </tbody>\n",
              "</table>\n",
              "</div>"
            ],
            "text/plain": [
              "                       Sales\n",
              "Category                    \n",
              "Furniture        741306.3133\n",
              "Office Supplies  718735.2440\n",
              "Technology       836154.0330"
            ]
          },
          "metadata": {
            "tags": []
          },
          "execution_count": 41
        }
      ]
    },
    {
      "cell_type": "code",
      "metadata": {
        "colab": {
          "base_uri": "https://localhost:8080/",
          "height": 483
        },
        "id": "XhmnS-KjwSKO",
        "outputId": "5b7d793c-60ab-46ba-8dc3-3bf716baf76f"
      },
      "source": [
        "plt.figure(figsize=(15,8))\n",
        "category_sales.groupby('Category').sum()['Sales'].plot.pie(autopct='%1.1f%%')"
      ],
      "execution_count": 42,
      "outputs": [
        {
          "output_type": "execute_result",
          "data": {
            "text/plain": [
              "<matplotlib.axes._subplots.AxesSubplot at 0x7f144a6b1e90>"
            ]
          },
          "metadata": {
            "tags": []
          },
          "execution_count": 42
        },
        {
          "output_type": "display_data",
          "data": {
            "image/png": "[encoded data removed]",
            "text/plain": [
              "<Figure size 1080x576 with 1 Axes>"
            ]
          },
          "metadata": {
            "tags": []
          }
        }
      ]
    },
    {
      "cell_type": "markdown",
      "metadata": {
        "id": "8pjgovFSw861"
      },
      "source": [
        "from the above chart, Technology has highest number of Sales"
      ]
    },
    {
      "cell_type": "markdown",
      "metadata": {
        "id": "Cj1xZ57dxmW6"
      },
      "source": [
        "finding out Sattes that has more profit"
      ]
    },
    {
      "cell_type": "code",
      "metadata": {
        "colab": {
          "base_uri": "https://localhost:8080/",
          "height": 1000
        },
        "id": "kpm-9mmjwx7P",
        "outputId": "7a99e274-70a5-45d7-cf9a-339e2eb60596"
      },
      "source": [
        "states_profit=pd.DataFrame(df.groupby('State').sum()['Profit'])\n",
        "states_profit"
      ],
      "execution_count": 43,
      "outputs": [
        {
          "output_type": "execute_result",
          "data": {
            "text/html": [
              "<div>\n",
              "<style scoped>\n",
              "    .dataframe tbody tr th:only-of-type {\n",
              "        vertical-align: middle;\n",
              "    }\n",
              "\n",
              "    .dataframe tbody tr th {\n",
              "        vertical-align: top;\n",
              "    }\n",
              "\n",
              "    .dataframe thead th {\n",
              "        text-align: right;\n",
              "    }\n",
              "</style>\n",
              "<table border=\"1\" class=\"dataframe\">\n",
              "  <thead>\n",
              "    <tr style=\"text-align: right;\">\n",
              "      <th></th>\n",
              "      <th>Profit</th>\n",
              "    </tr>\n",
              "    <tr>\n",
              "      <th>State</th>\n",
              "      <th></th>\n",
              "    </tr>\n",
              "  </thead>\n",
              "  <tbody>\n",
              "    <tr>\n",
              "      <th>Alabama</th>\n",
              "      <td>5786.8253</td>\n",
              "    </tr>\n",
              "    <tr>\n",
              "      <th>Arizona</th>\n",
              "      <td>-3427.9246</td>\n",
              "    </tr>\n",
              "    <tr>\n",
              "      <th>Arkansas</th>\n",
              "      <td>4008.6871</td>\n",
              "    </tr>\n",
              "    <tr>\n",
              "      <th>California</th>\n",
              "      <td>76330.7891</td>\n",
              "    </tr>\n",
              "    <tr>\n",
              "      <th>Colorado</th>\n",
              "      <td>-6527.8579</td>\n",
              "    </tr>\n",
              "    <tr>\n",
              "      <th>Connecticut</th>\n",
              "      <td>3511.4918</td>\n",
              "    </tr>\n",
              "    <tr>\n",
              "      <th>Delaware</th>\n",
              "      <td>9977.3748</td>\n",
              "    </tr>\n",
              "    <tr>\n",
              "      <th>District of Columbia</th>\n",
              "      <td>1059.5893</td>\n",
              "    </tr>\n",
              "    <tr>\n",
              "      <th>Florida</th>\n",
              "      <td>-3399.3017</td>\n",
              "    </tr>\n",
              "    <tr>\n",
              "      <th>Georgia</th>\n",
              "      <td>16250.0433</td>\n",
              "    </tr>\n",
              "    <tr>\n",
              "      <th>Idaho</th>\n",
              "      <td>826.7231</td>\n",
              "    </tr>\n",
              "    <tr>\n",
              "      <th>Illinois</th>\n",
              "      <td>-12601.6500</td>\n",
              "    </tr>\n",
              "    <tr>\n",
              "      <th>Indiana</th>\n",
              "      <td>18382.9363</td>\n",
              "    </tr>\n",
              "    <tr>\n",
              "      <th>Iowa</th>\n",
              "      <td>1183.8119</td>\n",
              "    </tr>\n",
              "    <tr>\n",
              "      <th>Kansas</th>\n",
              "      <td>836.4435</td>\n",
              "    </tr>\n",
              "    <tr>\n",
              "      <th>Kentucky</th>\n",
              "      <td>11199.6966</td>\n",
              "    </tr>\n",
              "    <tr>\n",
              "      <th>Louisiana</th>\n",
              "      <td>2196.1023</td>\n",
              "    </tr>\n",
              "    <tr>\n",
              "      <th>Maine</th>\n",
              "      <td>454.4862</td>\n",
              "    </tr>\n",
              "    <tr>\n",
              "      <th>Maryland</th>\n",
              "      <td>7031.1788</td>\n",
              "    </tr>\n",
              "    <tr>\n",
              "      <th>Massachusetts</th>\n",
              "      <td>6785.5016</td>\n",
              "    </tr>\n",
              "    <tr>\n",
              "      <th>Michigan</th>\n",
              "      <td>24428.0903</td>\n",
              "    </tr>\n",
              "    <tr>\n",
              "      <th>Minnesota</th>\n",
              "      <td>10823.1874</td>\n",
              "    </tr>\n",
              "    <tr>\n",
              "      <th>Mississippi</th>\n",
              "      <td>3172.9762</td>\n",
              "    </tr>\n",
              "    <tr>\n",
              "      <th>Missouri</th>\n",
              "      <td>6436.2105</td>\n",
              "    </tr>\n",
              "    <tr>\n",
              "      <th>Montana</th>\n",
              "      <td>1833.3285</td>\n",
              "    </tr>\n",
              "    <tr>\n",
              "      <th>Nebraska</th>\n",
              "      <td>2037.0942</td>\n",
              "    </tr>\n",
              "    <tr>\n",
              "      <th>Nevada</th>\n",
              "      <td>3316.7659</td>\n",
              "    </tr>\n",
              "    <tr>\n",
              "      <th>New Hampshire</th>\n",
              "      <td>1706.5028</td>\n",
              "    </tr>\n",
              "    <tr>\n",
              "      <th>New Jersey</th>\n",
              "      <td>9772.9138</td>\n",
              "    </tr>\n",
              "    <tr>\n",
              "      <th>New Mexico</th>\n",
              "      <td>1157.1161</td>\n",
              "    </tr>\n",
              "    <tr>\n",
              "      <th>New York</th>\n",
              "      <td>74015.4622</td>\n",
              "    </tr>\n",
              "    <tr>\n",
              "      <th>North Carolina</th>\n",
              "      <td>-7490.9122</td>\n",
              "    </tr>\n",
              "    <tr>\n",
              "      <th>North Dakota</th>\n",
              "      <td>230.1497</td>\n",
              "    </tr>\n",
              "    <tr>\n",
              "      <th>Ohio</th>\n",
              "      <td>-16959.3178</td>\n",
              "    </tr>\n",
              "    <tr>\n",
              "      <th>Oklahoma</th>\n",
              "      <td>4853.9560</td>\n",
              "    </tr>\n",
              "    <tr>\n",
              "      <th>Oregon</th>\n",
              "      <td>-1194.0993</td>\n",
              "    </tr>\n",
              "    <tr>\n",
              "      <th>Pennsylvania</th>\n",
              "      <td>-15565.4035</td>\n",
              "    </tr>\n",
              "    <tr>\n",
              "      <th>Rhode Island</th>\n",
              "      <td>7285.6293</td>\n",
              "    </tr>\n",
              "    <tr>\n",
              "      <th>South Carolina</th>\n",
              "      <td>1769.0566</td>\n",
              "    </tr>\n",
              "    <tr>\n",
              "      <th>South Dakota</th>\n",
              "      <td>394.8283</td>\n",
              "    </tr>\n",
              "    <tr>\n",
              "      <th>Tennessee</th>\n",
              "      <td>-5341.6936</td>\n",
              "    </tr>\n",
              "    <tr>\n",
              "      <th>Texas</th>\n",
              "      <td>-25750.9833</td>\n",
              "    </tr>\n",
              "    <tr>\n",
              "      <th>Utah</th>\n",
              "      <td>2546.5335</td>\n",
              "    </tr>\n",
              "    <tr>\n",
              "      <th>Vermont</th>\n",
              "      <td>2244.9783</td>\n",
              "    </tr>\n",
              "    <tr>\n",
              "      <th>Virginia</th>\n",
              "      <td>18597.9504</td>\n",
              "    </tr>\n",
              "    <tr>\n",
              "      <th>Washington</th>\n",
              "      <td>33368.2375</td>\n",
              "    </tr>\n",
              "    <tr>\n",
              "      <th>West Virginia</th>\n",
              "      <td>185.9216</td>\n",
              "    </tr>\n",
              "    <tr>\n",
              "      <th>Wisconsin</th>\n",
              "      <td>8401.8004</td>\n",
              "    </tr>\n",
              "    <tr>\n",
              "      <th>Wyoming</th>\n",
              "      <td>100.1960</td>\n",
              "    </tr>\n",
              "  </tbody>\n",
              "</table>\n",
              "</div>"
            ],
            "text/plain": [
              "                          Profit\n",
              "State                           \n",
              "Alabama                5786.8253\n",
              "Arizona               -3427.9246\n",
              "Arkansas               4008.6871\n",
              "California            76330.7891\n",
              "Colorado              -6527.8579\n",
              "Connecticut            3511.4918\n",
              "Delaware               9977.3748\n",
              "District of Columbia   1059.5893\n",
              "Florida               -3399.3017\n",
              "Georgia               16250.0433\n",
              "Idaho                   826.7231\n",
              "Illinois             -12601.6500\n",
              "Indiana               18382.9363\n",
              "Iowa                   1183.8119\n",
              "Kansas                  836.4435\n",
              "Kentucky              11199.6966\n",
              "Louisiana              2196.1023\n",
              "Maine                   454.4862\n",
              "Maryland               7031.1788\n",
              "Massachusetts          6785.5016\n",
              "Michigan              24428.0903\n",
              "Minnesota             10823.1874\n",
              "Mississippi            3172.9762\n",
              "Missouri               6436.2105\n",
              "Montana                1833.3285\n",
              "Nebraska               2037.0942\n",
              "Nevada                 3316.7659\n",
              "New Hampshire          1706.5028\n",
              "New Jersey             9772.9138\n",
              "New Mexico             1157.1161\n",
              "New York              74015.4622\n",
              "North Carolina        -7490.9122\n",
              "North Dakota            230.1497\n",
              "Ohio                 -16959.3178\n",
              "Oklahoma               4853.9560\n",
              "Oregon                -1194.0993\n",
              "Pennsylvania         -15565.4035\n",
              "Rhode Island           7285.6293\n",
              "South Carolina         1769.0566\n",
              "South Dakota            394.8283\n",
              "Tennessee             -5341.6936\n",
              "Texas                -25750.9833\n",
              "Utah                   2546.5335\n",
              "Vermont                2244.9783\n",
              "Virginia              18597.9504\n",
              "Washington            33368.2375\n",
              "West Virginia           185.9216\n",
              "Wisconsin              8401.8004\n",
              "Wyoming                 100.1960"
            ]
          },
          "metadata": {
            "tags": []
          },
          "execution_count": 43
        }
      ]
    },
    {
      "cell_type": "code",
      "metadata": {
        "colab": {
          "base_uri": "https://localhost:8080/",
          "height": 586
        },
        "id": "67uUDVHPyBDS",
        "outputId": "1bf7d3fd-995f-412a-8ebf-c8357097118f"
      },
      "source": [
        "states_profit.plot.bar(figsize=(15,8), grid=True)\n",
        "plt.show()"
      ],
      "execution_count": 44,
      "outputs": [
        {
          "output_type": "display_data",
          "data": {
            "image/png": "[encoded data removed]",
            "text/plain": [
              "<Figure size 1080x576 with 1 Axes>"
            ]
          },
          "metadata": {
            "tags": [],
            "needs_background": "light"
          }
        }
      ]
    },
    {
      "cell_type": "markdown",
      "metadata": {
        "id": "fYLzwQCSya6i"
      },
      "source": [
        "California has highest profit"
      ]
    },
    {
      "cell_type": "markdown",
      "metadata": {
        "id": "2gfrxL0KysVS"
      },
      "source": [
        "State with more sales"
      ]
    },
    {
      "cell_type": "code",
      "metadata": {
        "colab": {
          "base_uri": "https://localhost:8080/",
          "height": 1000
        },
        "id": "2UEG9D0ByV3L",
        "outputId": "8b88902f-18b2-412b-b1a6-4249777bb490"
      },
      "source": [
        "states_sales=pd.DataFrame(df.groupby('State').sum()['Sales'])\n",
        "states_sales"
      ],
      "execution_count": 45,
      "outputs": [
        {
          "output_type": "execute_result",
          "data": {
            "text/html": [
              "<div>\n",
              "<style scoped>\n",
              "    .dataframe tbody tr th:only-of-type {\n",
              "        vertical-align: middle;\n",
              "    }\n",
              "\n",
              "    .dataframe tbody tr th {\n",
              "        vertical-align: top;\n",
              "    }\n",
              "\n",
              "    .dataframe thead th {\n",
              "        text-align: right;\n",
              "    }\n",
              "</style>\n",
              "<table border=\"1\" class=\"dataframe\">\n",
              "  <thead>\n",
              "    <tr style=\"text-align: right;\">\n",
              "      <th></th>\n",
              "      <th>Sales</th>\n",
              "    </tr>\n",
              "    <tr>\n",
              "      <th>State</th>\n",
              "      <th></th>\n",
              "    </tr>\n",
              "  </thead>\n",
              "  <tbody>\n",
              "    <tr>\n",
              "      <th>Alabama</th>\n",
              "      <td>19510.6400</td>\n",
              "    </tr>\n",
              "    <tr>\n",
              "      <th>Arizona</th>\n",
              "      <td>35282.0010</td>\n",
              "    </tr>\n",
              "    <tr>\n",
              "      <th>Arkansas</th>\n",
              "      <td>11678.1300</td>\n",
              "    </tr>\n",
              "    <tr>\n",
              "      <th>California</th>\n",
              "      <td>457576.2715</td>\n",
              "    </tr>\n",
              "    <tr>\n",
              "      <th>Colorado</th>\n",
              "      <td>32108.1180</td>\n",
              "    </tr>\n",
              "    <tr>\n",
              "      <th>Connecticut</th>\n",
              "      <td>13384.3570</td>\n",
              "    </tr>\n",
              "    <tr>\n",
              "      <th>Delaware</th>\n",
              "      <td>27451.0690</td>\n",
              "    </tr>\n",
              "    <tr>\n",
              "      <th>District of Columbia</th>\n",
              "      <td>2865.0200</td>\n",
              "    </tr>\n",
              "    <tr>\n",
              "      <th>Florida</th>\n",
              "      <td>89473.7080</td>\n",
              "    </tr>\n",
              "    <tr>\n",
              "      <th>Georgia</th>\n",
              "      <td>49095.8400</td>\n",
              "    </tr>\n",
              "    <tr>\n",
              "      <th>Idaho</th>\n",
              "      <td>4382.4860</td>\n",
              "    </tr>\n",
              "    <tr>\n",
              "      <th>Illinois</th>\n",
              "      <td>80162.5370</td>\n",
              "    </tr>\n",
              "    <tr>\n",
              "      <th>Indiana</th>\n",
              "      <td>53555.3600</td>\n",
              "    </tr>\n",
              "    <tr>\n",
              "      <th>Iowa</th>\n",
              "      <td>4579.7600</td>\n",
              "    </tr>\n",
              "    <tr>\n",
              "      <th>Kansas</th>\n",
              "      <td>2914.3100</td>\n",
              "    </tr>\n",
              "    <tr>\n",
              "      <th>Kentucky</th>\n",
              "      <td>36591.7500</td>\n",
              "    </tr>\n",
              "    <tr>\n",
              "      <th>Louisiana</th>\n",
              "      <td>9217.0300</td>\n",
              "    </tr>\n",
              "    <tr>\n",
              "      <th>Maine</th>\n",
              "      <td>1270.5300</td>\n",
              "    </tr>\n",
              "    <tr>\n",
              "      <th>Maryland</th>\n",
              "      <td>23705.5230</td>\n",
              "    </tr>\n",
              "    <tr>\n",
              "      <th>Massachusetts</th>\n",
              "      <td>28634.4340</td>\n",
              "    </tr>\n",
              "    <tr>\n",
              "      <th>Michigan</th>\n",
              "      <td>75879.6440</td>\n",
              "    </tr>\n",
              "    <tr>\n",
              "      <th>Minnesota</th>\n",
              "      <td>29863.1500</td>\n",
              "    </tr>\n",
              "    <tr>\n",
              "      <th>Mississippi</th>\n",
              "      <td>10771.3400</td>\n",
              "    </tr>\n",
              "    <tr>\n",
              "      <th>Missouri</th>\n",
              "      <td>22205.1500</td>\n",
              "    </tr>\n",
              "    <tr>\n",
              "      <th>Montana</th>\n",
              "      <td>5589.3520</td>\n",
              "    </tr>\n",
              "    <tr>\n",
              "      <th>Nebraska</th>\n",
              "      <td>7464.9300</td>\n",
              "    </tr>\n",
              "    <tr>\n",
              "      <th>Nevada</th>\n",
              "      <td>16729.1020</td>\n",
              "    </tr>\n",
              "    <tr>\n",
              "      <th>New Hampshire</th>\n",
              "      <td>7292.5240</td>\n",
              "    </tr>\n",
              "    <tr>\n",
              "      <th>New Jersey</th>\n",
              "      <td>35764.3120</td>\n",
              "    </tr>\n",
              "    <tr>\n",
              "      <th>New Mexico</th>\n",
              "      <td>4783.5220</td>\n",
              "    </tr>\n",
              "    <tr>\n",
              "      <th>New York</th>\n",
              "      <td>310827.1510</td>\n",
              "    </tr>\n",
              "    <tr>\n",
              "      <th>North Carolina</th>\n",
              "      <td>55603.1640</td>\n",
              "    </tr>\n",
              "    <tr>\n",
              "      <th>North Dakota</th>\n",
              "      <td>919.9100</td>\n",
              "    </tr>\n",
              "    <tr>\n",
              "      <th>Ohio</th>\n",
              "      <td>77976.7640</td>\n",
              "    </tr>\n",
              "    <tr>\n",
              "      <th>Oklahoma</th>\n",
              "      <td>19683.3900</td>\n",
              "    </tr>\n",
              "    <tr>\n",
              "      <th>Oregon</th>\n",
              "      <td>17420.7820</td>\n",
              "    </tr>\n",
              "    <tr>\n",
              "      <th>Pennsylvania</th>\n",
              "      <td>116496.3620</td>\n",
              "    </tr>\n",
              "    <tr>\n",
              "      <th>Rhode Island</th>\n",
              "      <td>22627.9560</td>\n",
              "    </tr>\n",
              "    <tr>\n",
              "      <th>South Carolina</th>\n",
              "      <td>8481.7100</td>\n",
              "    </tr>\n",
              "    <tr>\n",
              "      <th>South Dakota</th>\n",
              "      <td>1315.5600</td>\n",
              "    </tr>\n",
              "    <tr>\n",
              "      <th>Tennessee</th>\n",
              "      <td>30661.8730</td>\n",
              "    </tr>\n",
              "    <tr>\n",
              "      <th>Texas</th>\n",
              "      <td>170124.5418</td>\n",
              "    </tr>\n",
              "    <tr>\n",
              "      <th>Utah</th>\n",
              "      <td>11220.0560</td>\n",
              "    </tr>\n",
              "    <tr>\n",
              "      <th>Vermont</th>\n",
              "      <td>8929.3700</td>\n",
              "    </tr>\n",
              "    <tr>\n",
              "      <th>Virginia</th>\n",
              "      <td>70636.7200</td>\n",
              "    </tr>\n",
              "    <tr>\n",
              "      <th>Washington</th>\n",
              "      <td>138560.8100</td>\n",
              "    </tr>\n",
              "    <tr>\n",
              "      <th>West Virginia</th>\n",
              "      <td>1209.8240</td>\n",
              "    </tr>\n",
              "    <tr>\n",
              "      <th>Wisconsin</th>\n",
              "      <td>32114.6100</td>\n",
              "    </tr>\n",
              "    <tr>\n",
              "      <th>Wyoming</th>\n",
              "      <td>1603.1360</td>\n",
              "    </tr>\n",
              "  </tbody>\n",
              "</table>\n",
              "</div>"
            ],
            "text/plain": [
              "                            Sales\n",
              "State                            \n",
              "Alabama                19510.6400\n",
              "Arizona                35282.0010\n",
              "Arkansas               11678.1300\n",
              "California            457576.2715\n",
              "Colorado               32108.1180\n",
              "Connecticut            13384.3570\n",
              "Delaware               27451.0690\n",
              "District of Columbia    2865.0200\n",
              "Florida                89473.7080\n",
              "Georgia                49095.8400\n",
              "Idaho                   4382.4860\n",
              "Illinois               80162.5370\n",
              "Indiana                53555.3600\n",
              "Iowa                    4579.7600\n",
              "Kansas                  2914.3100\n",
              "Kentucky               36591.7500\n",
              "Louisiana               9217.0300\n",
              "Maine                   1270.5300\n",
              "Maryland               23705.5230\n",
              "Massachusetts          28634.4340\n",
              "Michigan               75879.6440\n",
              "Minnesota              29863.1500\n",
              "Mississippi            10771.3400\n",
              "Missouri               22205.1500\n",
              "Montana                 5589.3520\n",
              "Nebraska                7464.9300\n",
              "Nevada                 16729.1020\n",
              "New Hampshire           7292.5240\n",
              "New Jersey             35764.3120\n",
              "New Mexico              4783.5220\n",
              "New York              310827.1510\n",
              "North Carolina         55603.1640\n",
              "North Dakota             919.9100\n",
              "Ohio                   77976.7640\n",
              "Oklahoma               19683.3900\n",
              "Oregon                 17420.7820\n",
              "Pennsylvania          116496.3620\n",
              "Rhode Island           22627.9560\n",
              "South Carolina          8481.7100\n",
              "South Dakota            1315.5600\n",
              "Tennessee              30661.8730\n",
              "Texas                 170124.5418\n",
              "Utah                   11220.0560\n",
              "Vermont                 8929.3700\n",
              "Virginia               70636.7200\n",
              "Washington            138560.8100\n",
              "West Virginia           1209.8240\n",
              "Wisconsin              32114.6100\n",
              "Wyoming                 1603.1360"
            ]
          },
          "metadata": {
            "tags": []
          },
          "execution_count": 45
        }
      ]
    },
    {
      "cell_type": "code",
      "metadata": {
        "colab": {
          "base_uri": "https://localhost:8080/",
          "height": 586
        },
        "id": "r-cPFnXly_ZI",
        "outputId": "7613beb0-a682-4cac-af4b-302735a981e0"
      },
      "source": [
        "states_sales.plot.bar(figsize=(15,8), grid=True)\n",
        "plt.show()"
      ],
      "execution_count": 46,
      "outputs": [
        {
          "output_type": "display_data",
          "data": {
            "image/png": "[encoded data removed]",
            "text/plain": [
              "<Figure size 1080x576 with 1 Axes>"
            ]
          },
          "metadata": {
            "tags": [],
            "needs_background": "light"
          }
        }
      ]
    },
    {
      "cell_type": "markdown",
      "metadata": {
        "id": "nxazpHfmzfxo"
      },
      "source": [
        "California has highest number of Sales"
      ]
    },
    {
      "cell_type": "code",
      "metadata": {
        "colab": {
          "base_uri": "https://localhost:8080/",
          "height": 203
        },
        "id": "N07MVltrzWAW",
        "outputId": "02d4aa3b-b870-4739-d5a7-1a52ced5515b"
      },
      "source": [
        "region_sales=pd.DataFrame(df.groupby('Region').sum()['Sales'])\n",
        "region_sales"
      ],
      "execution_count": 47,
      "outputs": [
        {
          "output_type": "execute_result",
          "data": {
            "text/html": [
              "<div>\n",
              "<style scoped>\n",
              "    .dataframe tbody tr th:only-of-type {\n",
              "        vertical-align: middle;\n",
              "    }\n",
              "\n",
              "    .dataframe tbody tr th {\n",
              "        vertical-align: top;\n",
              "    }\n",
              "\n",
              "    .dataframe thead th {\n",
              "        text-align: right;\n",
              "    }\n",
              "</style>\n",
              "<table border=\"1\" class=\"dataframe\">\n",
              "  <thead>\n",
              "    <tr style=\"text-align: right;\">\n",
              "      <th></th>\n",
              "      <th>Sales</th>\n",
              "    </tr>\n",
              "    <tr>\n",
              "      <th>Region</th>\n",
              "      <th></th>\n",
              "    </tr>\n",
              "  </thead>\n",
              "  <tbody>\n",
              "    <tr>\n",
              "      <th>Central</th>\n",
              "      <td>500782.8528</td>\n",
              "    </tr>\n",
              "    <tr>\n",
              "      <th>East</th>\n",
              "      <td>678435.1960</td>\n",
              "    </tr>\n",
              "    <tr>\n",
              "      <th>South</th>\n",
              "      <td>391721.9050</td>\n",
              "    </tr>\n",
              "    <tr>\n",
              "      <th>West</th>\n",
              "      <td>725255.6365</td>\n",
              "    </tr>\n",
              "  </tbody>\n",
              "</table>\n",
              "</div>"
            ],
            "text/plain": [
              "               Sales\n",
              "Region              \n",
              "Central  500782.8528\n",
              "East     678435.1960\n",
              "South    391721.9050\n",
              "West     725255.6365"
            ]
          },
          "metadata": {
            "tags": []
          },
          "execution_count": 47
        }
      ]
    },
    {
      "cell_type": "code",
      "metadata": {
        "colab": {
          "base_uri": "https://localhost:8080/",
          "height": 374
        },
        "id": "uhKIiqopztW9",
        "outputId": "69cf22ba-f405-416f-f696-e1791cfb3df7"
      },
      "source": [
        "plt.figure(figsize=(15,6))\n",
        "df.groupby('Region').sum()['Sales'].plot.pie(autopct='%1.1f%%')"
      ],
      "execution_count": 48,
      "outputs": [
        {
          "output_type": "execute_result",
          "data": {
            "text/plain": [
              "<matplotlib.axes._subplots.AxesSubplot at 0x7f144a3aabd0>"
            ]
          },
          "metadata": {
            "tags": []
          },
          "execution_count": 48
        },
        {
          "output_type": "display_data",
          "data": {
            "image/png": "[encoded data removed]",
            "text/plain": [
              "<Figure size 1080x432 with 1 Axes>"
            ]
          },
          "metadata": {
            "tags": []
          }
        }
      ]
    },
    {
      "cell_type": "markdown",
      "metadata": {
        "id": "0d6FP_eA0JHr"
      },
      "source": [
        "West Region has highest number of sales"
      ]
    },
    {
      "cell_type": "markdown",
      "metadata": {
        "id": "MN6x1IMX0QR4"
      },
      "source": [
        "Region with Highest Profit"
      ]
    },
    {
      "cell_type": "code",
      "metadata": {
        "colab": {
          "base_uri": "https://localhost:8080/",
          "height": 203
        },
        "id": "5QorCKwI0Dq0",
        "outputId": "51036bc3-7127-4d8c-cd9e-1a979cc118ba"
      },
      "source": [
        "region_profit=pd.DataFrame(df.groupby('Region').sum()['Profit'])\n",
        "region_profit"
      ],
      "execution_count": 49,
      "outputs": [
        {
          "output_type": "execute_result",
          "data": {
            "text/html": [
              "<div>\n",
              "<style scoped>\n",
              "    .dataframe tbody tr th:only-of-type {\n",
              "        vertical-align: middle;\n",
              "    }\n",
              "\n",
              "    .dataframe tbody tr th {\n",
              "        vertical-align: top;\n",
              "    }\n",
              "\n",
              "    .dataframe thead th {\n",
              "        text-align: right;\n",
              "    }\n",
              "</style>\n",
              "<table border=\"1\" class=\"dataframe\">\n",
              "  <thead>\n",
              "    <tr style=\"text-align: right;\">\n",
              "      <th></th>\n",
              "      <th>Profit</th>\n",
              "    </tr>\n",
              "    <tr>\n",
              "      <th>Region</th>\n",
              "      <th></th>\n",
              "    </tr>\n",
              "  </thead>\n",
              "  <tbody>\n",
              "    <tr>\n",
              "      <th>Central</th>\n",
              "      <td>39655.8752</td>\n",
              "    </tr>\n",
              "    <tr>\n",
              "      <th>East</th>\n",
              "      <td>91506.3092</td>\n",
              "    </tr>\n",
              "    <tr>\n",
              "      <th>South</th>\n",
              "      <td>46749.4303</td>\n",
              "    </tr>\n",
              "    <tr>\n",
              "      <th>West</th>\n",
              "      <td>108329.8079</td>\n",
              "    </tr>\n",
              "  </tbody>\n",
              "</table>\n",
              "</div>"
            ],
            "text/plain": [
              "              Profit\n",
              "Region              \n",
              "Central   39655.8752\n",
              "East      91506.3092\n",
              "South     46749.4303\n",
              "West     108329.8079"
            ]
          },
          "metadata": {
            "tags": []
          },
          "execution_count": 49
        }
      ]
    },
    {
      "cell_type": "code",
      "metadata": {
        "colab": {
          "base_uri": "https://localhost:8080/",
          "height": 374
        },
        "id": "zmxu5XmS0bgE",
        "outputId": "a9311ee9-37d0-4172-e197-4c7eaa5a2e89"
      },
      "source": [
        "plt.figure(figsize=(15,6))\n",
        "df.groupby('Region').sum()['Profit'].plot.pie(autopct='%1.1f%%')"
      ],
      "execution_count": 50,
      "outputs": [
        {
          "output_type": "execute_result",
          "data": {
            "text/plain": [
              "<matplotlib.axes._subplots.AxesSubplot at 0x7f144a3735d0>"
            ]
          },
          "metadata": {
            "tags": []
          },
          "execution_count": 50
        },
        {
          "output_type": "display_data",
          "data": {
            "image/png": "[encoded data removed]",
            "text/plain": [
              "<Figure size 1080x432 with 1 Axes>"
            ]
          },
          "metadata": {
            "tags": []
          }
        }
      ]
    },
    {
      "cell_type": "markdown",
      "metadata": {
        "id": "AAPZuHY10pvQ"
      },
      "source": [
        "Western Region has the Highest Profit"
      ]
    },
    {
      "cell_type": "markdown",
      "metadata": {
        "id": "Pg7a8BBQ0xYT"
      },
      "source": [
        "#Conclusion\n",
        "\n",
        "\n",
        "\n",
        "\n",
        "*   Sub-Category\n",
        "\n",
        "\n",
        "Highest Profit- Tables\n",
        "\n",
        "Least Profit- Copiers\n",
        "\n",
        "Highest Sales- Phones\n",
        "\n",
        "Least Sales- Fasteners\n",
        "\n",
        "* Category\n",
        "\n",
        "Highest Profit- Technology\n",
        "\n",
        "Least Profit- Furniture\n",
        "\n",
        "Highest Sales- Technology\n",
        "\n",
        "Least Sales- Office Supply\n",
        "\n",
        "\n",
        "\n",
        "*   State\n",
        "\n",
        "Highest Profit- California\n",
        "\n",
        "Least Profit- Texas\n",
        "\n",
        "Highest Sales- California\n",
        "\n",
        "Least Sales- North Dakota\n",
        "\n",
        "\n",
        "\n",
        "\n",
        "*   Region\n",
        "\n",
        "Highest Profit- West\n",
        "\n",
        "Least Profit- Central\n",
        "\n",
        "Highest Sales- West\n",
        "\n",
        "Least Sales- South\n",
        "\n"
      ]
    }
  ]
}